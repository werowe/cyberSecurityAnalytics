{
 "cells": [
  {
   "cell_type": "code",
   "execution_count": null,
   "metadata": {},
   "outputs": [],
   "source": [
    "from pyspark.sql.types import StructType, StructField, FloatType, BooleanType\n",
    "from pyspark.sql.types import DoubleType, IntegerType, StringType\n",
    "import pyspark\n",
    " \n",
    "from pyspark import SQLContext\n",
    " \n",
    "conf = pyspark.SparkConf() \n",
    " \n",
    "sc = pyspark.SparkContext.getOrCreate(conf=conf)\n",
    "sqlcontext = SQLContext(sc)\n",
    "\n",
    "schema = StructType([\n",
    "    StructField(\"ts\", StringType(),True),   \n",
    "    StructField(\"uid\", StringType(),True),    \n",
    "    StructField(\"id.orig_h\", StringType(),True),       \n",
    "    StructField(\"id.orig_p\", StringType(),True),     \n",
    "    StructField(\"id.resp_h\", StringType(),True),     \n",
    "    StructField(\"id.resp_p\", StringType(),True),   \n",
    "    StructField(\"proto\", StringType(),True),    \n",
    "    StructField(\"service\" , StringType(),True),      \n",
    "    StructField(\"duration\", FloatType(),True),    \n",
    "    StructField(\"orig_bytes\", StringType(),True),    \n",
    "    StructField(\"resp_bytes\", StringType(),True),      \n",
    "    StructField(\"conn_state\", StringType(),True),     \n",
    "    StructField(\"local_orig\", BooleanType(),True),  \n",
    "    StructField(\"missed_bytes\", StringType(),True),    \n",
    "    StructField(\"history\", StringType(),True),     \n",
    "    StructField(\"orig_pkts\", IntegerType(),True),     \n",
    "    StructField(\"orig_ip_bytes\", IntegerType(),True),       \n",
    "    StructField(\"resp_pkts\", IntegerType(),True),     \n",
    "    StructField(\"resp_ip_bytes\", IntegerType(),True),    \n",
    "    StructField(\"tunnel_parents\", StringType(),True)   \n",
    "              ])\n",
    "        \n",
    "\n",
    "df = sqlcontext.read.csv(path=\"/home/ubuntu/Documents/forensics/tail.log\", sep=\"\\t\",schema=schema) \n",
    "\n",
    "\n",
    "origColumns = { \"ts\": 0,\n",
    "                \"uid\" : 1,\n",
    "               \"id.orig_h\" : 2 ,\n",
    "               \"id.orig_p\" : 3,\n",
    "               \"id.resp_h\" : 4,\n",
    "               \"id.resp_p\" : 5, \n",
    "               \"proto\" : 6,\n",
    "               \"service\" : 7,\n",
    "               \"duration\" : 8, \n",
    "               \"orig_bytes\" : 9,\n",
    "               \"resp_bytes\" : 10,\n",
    "               \"conn_state\" : 11,  \n",
    "               \"local_orig\" : 12,\n",
    "               \"missed_bytes\" : 13,\n",
    "               \"history\" : 14,  \n",
    "               \"orig_pkts\" : 15, \n",
    "               \"orig_ip_bytes\" : 16,\n",
    "               \"resp_pkts\" : 17, \n",
    "               \"resp_ip_bytes\" : 18, \n",
    "               \"tunnel_parents\" : 19, \n",
    "               \"orig_cc\" : 20 ,\n",
    "               \"resp_cc\" : 21 }\n",
    "\n",
    "columns = [ \"id.orig_h\",  \"id.orig_p\",   \"id.resp_h\", \n",
    "           \"id.resp_p\", \"proto\", \"duration\", \n",
    "           \"orig_bytes\", \"resp_bytes\",    \n",
    "              \"orig_pkts\", \"orig_ip_bytes\",  \"resp_pkts\", \n",
    "           \"resp_ip_bytes\"  ]\n"
   ]
  },
  {
   "cell_type": "code",
   "execution_count": null,
   "metadata": {},
   "outputs": [],
   "source": [
    "def filterFormat(l):\n",
    "   return [toInt(l[origColumns[i]]) for i in columns]\n",
    "\n",
    "def toInt(s):\n",
    "    if isinstance(s, str) == True:\n",
    "        st = [str(ord(i)) for i in s]\n",
    "        return(int(''.join(st)))\n",
    "    else:\n",
    "        return s\n"
   ]
  },
  {
   "cell_type": "code",
   "execution_count": null,
   "metadata": {},
   "outputs": [],
   "source": [
    "router = df.rdd.map(filterFormat).toDF(columns)"
   ]
  },
  {
   "cell_type": "code",
   "execution_count": null,
   "metadata": {},
   "outputs": [],
   "source": [
    "router.show()"
   ]
  },
  {
   "cell_type": "code",
   "execution_count": null,
   "metadata": {},
   "outputs": [],
   "source": []
  },
  {
   "cell_type": "code",
   "execution_count": null,
   "metadata": {},
   "outputs": [],
   "source": [
    "from pyspark.ml.clustering import KMeans\n",
    "from pyspark.ml.evaluation import ClusteringEvaluator\n",
    "\n",
    " \n",
    "\n",
    "# Trains a k-means model.\n",
    "kmeans = KMeans().setK(7).setSeed(1)\n",
    "model = kmeans.fit(router)\n",
    "\n",
    "# Make predictions\n",
    "predictions = model.transform(router)\n",
    "\n",
    "# Evaluate clustering by computing Silhouette score\n",
    "evaluator = ClusteringEvaluator()\n",
    "\n",
    "silhouette = evaluator.evaluate(predictions)\n",
    "print(\"Silhouette with squared euclidean distance = \" + str(silhouette))\n",
    "\n",
    "# Shows the result.\n",
    "centers = model.clusterCenters()\n",
    "print(\"Cluster Centers: \")\n",
    "for center in centers:\n",
    "    print(center)\n"
   ]
  },
  {
   "cell_type": "code",
   "execution_count": null,
   "metadata": {},
   "outputs": [],
   "source": []
  },
  {
   "cell_type": "code",
   "execution_count": null,
   "metadata": {},
   "outputs": [],
   "source": [
    "router.take(2)"
   ]
  }
 ],
 "metadata": {
  "kernelspec": {
   "display_name": "Python 3",
   "language": "python",
   "name": "python3"
  },
  "language_info": {
   "codemirror_mode": {
    "name": "ipython",
    "version": 3
   },
   "file_extension": ".py",
   "mimetype": "text/x-python",
   "name": "python",
   "nbconvert_exporter": "python",
   "pygments_lexer": "ipython3",
   "version": "3.5.2"
  }
 },
 "nbformat": 4,
 "nbformat_minor": 2
}
