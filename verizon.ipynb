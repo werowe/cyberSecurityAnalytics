{
 "cells": [
  {
   "cell_type": "code",
   "execution_count": 69,
   "metadata": {},
   "outputs": [],
   "source": [
    "from pyspark.sql.types import StructType, StructField, FloatType, BooleanType\n",
    "from pyspark.sql.types import DoubleType, IntegerType, StringType\n",
    "import pyspark\n",
    "from pyspark.ml.linalg import Vectors\n",
    "from pyspark.ml.feature import VectorAssembler\n",
    "from pyspark.sql.functions import lit\n",
    "from pyspark.sql.functions import udf\n",
    " \n",
    "from pyspark import SQLContext\n",
    " \n",
    "conf = pyspark.SparkConf() \n",
    " \n",
    "sc = pyspark.SparkContext.getOrCreate(conf=conf)\n",
    "sqlcontext = SQLContext(sc)\n",
    "\n",
    "schema = StructType([\n",
    "    StructField(\"ts\", StringType(),True),    \n",
    "    StructField(\"uid\", StringType(),True),     \n",
    "    StructField(\"id.orig_h\", StringType(),True),         \n",
    "    StructField(\"id.orig_p\", StringType(),True),     \n",
    "    StructField(\"id.resp_h\", StringType(),True),      \n",
    "    StructField(\"id.resp_p\", StringType(),True),   \n",
    "    StructField(\"proto\", StringType(),True),     \n",
    "    StructField(\"service\" , StringType(),True),        \n",
    "    StructField(\"duration\", FloatType(),True),     \n",
    "    StructField(\"orig_bytes\", StringType(),True),     \n",
    "    StructField(\"resp_bytes\", StringType(),True),       \n",
    "    StructField(\"conn_state\", StringType(),True),      \n",
    "    StructField(\"local_orig\", BooleanType(),True),   \n",
    "    StructField(\"missed_bytes\", StringType(),True),      \n",
    "    StructField(\"history\", StringType(),True),     \n",
    "    StructField(\"orig_pkts\", IntegerType(),True),     \n",
    "    StructField(\"orig_ip_bytes\", IntegerType(),True),       \n",
    "    StructField(\"resp_pkts\", IntegerType(),True),      \n",
    "    StructField(\"resp_ip_bytes\", IntegerType(),True),     \n",
    "    StructField(\"tunnel_parents\", StringType(),True)    \n",
    "              ])\n",
    "        \n",
    "\n",
    "df = sqlcontext.read.csv(path=\"/home/ubuntu/Documents/forensics/tail.log\", sep=\"\\t\", schema=schema) \n",
    "\n",
    "\n",
    "\n",
    "columns = ['ts',\n",
    " 'uid',\n",
    " 'id.orig_h',\n",
    " 'id.orig_p',\n",
    " 'id.resp_h',\n",
    " 'id.resp_p',\n",
    " 'proto',\n",
    " 'service',\n",
    " 'duration',\n",
    " 'orig_bytes',\n",
    " 'resp_bytes',\n",
    " 'conn_state',\n",
    " 'local_orig',\n",
    " 'missed_bytes',\n",
    " 'history',\n",
    " 'orig_pkts',\n",
    " 'orig_ip_bytes',\n",
    " 'resp_pkts',\n",
    " 'resp_ip_bytes',\n",
    " 'tunnel_parents']\n",
    "\n",
    "sqlcontext.registerDataFrameAsTable(df, \"dftab\")\n"
   ]
  },
  {
   "cell_type": "code",
   "execution_count": 41,
   "metadata": {},
   "outputs": [],
   "source": [
    "colsInt = udf(lambda z: toInt(z), IntegerType())\n",
    "spark.udf.register(\"colsInt\", colsInt)\n",
    "\n",
    "def toInt(s):\n",
    "    if isinstance(s, str) == True:\n",
    "        st = [str(ord(i)) for i in s]\n",
    "        return(int(''.join(st)))\n",
    "    else:\n",
    "         return type(s)\n",
    "\n",
    "\n",
    " "
   ]
  },
  {
   "cell_type": "code",
   "execution_count": 65,
   "metadata": {},
   "outputs": [
    {
     "name": "stdout",
     "output_type": "stream",
     "text": [
      "+----------+-------------------+\n",
      "|conn_state|colsInt(conn_state)|\n",
      "+----------+-------------------+\n",
      "|        S0|               8348|\n",
      "|        S0|               8348|\n",
      "|        S0|               8348|\n",
      "|        S0|               8348|\n",
      "|        S0|               8348|\n",
      "|        S0|               8348|\n",
      "|       OTH|             798472|\n",
      "|       OTH|             798472|\n",
      "|       OTH|             798472|\n",
      "|       OTH|             798472|\n",
      "+----------+-------------------+\n",
      "\n"
     ]
    }
   ],
   "source": [
    "\n",
    "spark.sql(\"select dftab.conn_state, colsInt(dftab.conn_state) from dftab\").show()\n",
    " \n",
    "    \n",
    "    "
   ]
  },
  {
   "cell_type": "code",
   "execution_count": 31,
   "metadata": {},
   "outputs": [
    {
     "data": {
      "text/plain": [
       "<function __main__.toInt(s)>"
      ]
     },
     "execution_count": 31,
     "metadata": {},
     "output_type": "execute_result"
    }
   ],
   "source": [
    " def toInt(s):\n",
    "    st = [str(ord(i)) for i in s]\n",
    "    return(int(''.join(st)))\n",
    "\n",
    "spark.udf.register(\"toIntdebug\", toInt, IntegerType())"
   ]
  },
  {
   "cell_type": "code",
   "execution_count": 70,
   "metadata": {},
   "outputs": [
    {
     "name": "stdout",
     "output_type": "stream",
     "text": [
      "+-----------------+------------------+--------------------+---------+---------------+---------+-----+-------+--------+----------+----------+----------+----------+------------+-------+---------+-------------+---------+-------------+--------------+-----+\n",
      "|               ts|               uid|           id.orig_h|id.orig_p|      id.resp_h|id.resp_p|proto|service|duration|orig_bytes|resp_bytes|conn_state|local_orig|missed_bytes|history|orig_pkts|orig_ip_bytes|resp_pkts|resp_ip_bytes|tunnel_parents|i_uid|\n",
      "+-----------------+------------------+--------------------+---------+---------------+---------+-----+-------+--------+----------+----------+----------+----------+------------+-------+---------+-------------+---------+-------------+--------------+-----+\n",
      "|1332017951.670000|CZf32d2DTHeWpAwB53|fe80::4c9b:aad8:8...|    60563|        ff02::c|     1900|  udp|      -|    6.01|       708|         0|        S0|      null|           0|      D|        6|          996|        0|            0|       (empty)| null|\n",
      "|1332017952.420000| Cv1oPeSUMWsg8Q2Tj|      192.168.227.83|      138|192.168.227.255|      138|  udp|      -|    null|         -|         -|        S0|      null|           0|      D|        2|          493|        0|            0|       (empty)| null|\n",
      "|1332017958.730000|CQGJjb445jgqodszpg|      192.168.202.80|      123|    17.171.4.24|      123|  udp|      -|    null|         -|         -|        S0|      null|           0|      D|        1|           76|        0|            0|       (empty)| null|\n",
      "|1332017411.340000| Cni65K1PfcZ7veoWn|      192.168.202.80|    57621|  192.168.1.255|    57621|  udp|      -|  569.98|       880|         0|        S0|      null|           0|      D|       20|         1440|        0|            0|       (empty)| null|\n",
      "|1332017411.340000| CjYWhWbgydhNndvL9|      192.168.202.80|    57621|192.168.202.255|    57621|  udp|      -|  569.98|       880|         0|        S0|      null|           0|      D|       20|         1440|        0|            0|       (empty)| null|\n",
      "|1332017983.280000|Cs31tE2zncRqMN2Eth|      192.168.202.57|      123| 192.168.202.92|      123|  udp|      -|    null|         -|         -|        S0|      null|           0|      D|        1|           76|        0|            0|       (empty)| null|\n",
      "|1332017411.340000| CTVUjMq7MGVWOWltl|       192.168.202.1|        3| 192.168.202.80|        1| icmp|      -|  569.98|       700|         0|       OTH|      null|           0|      -|       25|         1400|        0|            0|       (empty)| null|\n",
      "|1332017988.140000|C9Jk4C4VBA5gIKWQUf|fe80::216:47ff:fe...|      134|        ff02::1|      133| icmp|      -|    null|         -|         -|       OTH|      null|           0|      -|        1|          104|        0|            0|       (empty)| null|\n",
      "|1332017943.400000|C0IzMU2MzAv9Ge14Q6|     192.168.202.136|        3|  192.168.21.25|        3| icmp|      -|    3.01|       234|         0|       OTH|      null|           0|      -|        3|          318|        0|            0|       (empty)| null|\n",
      "|1332017983.030000|CuAHXC4RBAIXO1khkg|fe80::216:47ff:fe...|      134|        ff02::1|      133| icmp|      -|    null|         -|         -|       OTH|      null|           0|      -|        1|          104|        0|            0|       (empty)| null|\n",
      "+-----------------+------------------+--------------------+---------+---------------+---------+-----+-------+--------+----------+----------+----------+----------+------------+-------+---------+-------------+---------+-------------+--------------+-----+\n",
      "\n"
     ]
    }
   ],
   "source": [
    "df.withColumn('i_uid', colsInt('uid')).show()"
   ]
  },
  {
   "cell_type": "code",
   "execution_count": 52,
   "metadata": {},
   "outputs": [
    {
     "data": {
      "text/plain": [
       "['ts',\n",
       " 'uid',\n",
       " 'id.orig_h',\n",
       " 'id.orig_p',\n",
       " 'id.resp_h',\n",
       " 'id.resp_p',\n",
       " 'proto',\n",
       " 'service',\n",
       " 'duration',\n",
       " 'orig_bytes',\n",
       " 'resp_bytes',\n",
       " 'conn_state',\n",
       " 'local_orig',\n",
       " 'missed_bytes',\n",
       " 'history',\n",
       " 'orig_pkts',\n",
       " 'orig_ip_bytes',\n",
       " 'resp_pkts',\n",
       " 'resp_ip_bytes',\n",
       " 'tunnel_parents']"
      ]
     },
     "execution_count": 52,
     "metadata": {},
     "output_type": "execute_result"
    }
   ],
   "source": [
    "df.columns"
   ]
  },
  {
   "cell_type": "code",
   "execution_count": null,
   "metadata": {},
   "outputs": [],
   "source": [
    "\n",
    " \n",
    "vecAssembler = VectorAssembler(inputCols=columns, outputCol=\"features\")\n",
    "vecAssembler.transform(router).head().features\n",
    "\n",
    "\n",
    " \n",
    " "
   ]
  },
  {
   "cell_type": "code",
   "execution_count": 48,
   "metadata": {},
   "outputs": [
    {
     "name": "stdout",
     "output_type": "stream",
     "text": [
      "+------------------+------------+\n",
      "|               uid|colsInt(uid)|\n",
      "+------------------+------------+\n",
      "|CZf32d2DTHeWpAwB53|        null|\n",
      "| Cv1oPeSUMWsg8Q2Tj|        null|\n",
      "+------------------+------------+\n",
      "only showing top 2 rows\n",
      "\n"
     ]
    }
   ],
   "source": [
    "y.show(2)"
   ]
  },
  {
   "cell_type": "code",
   "execution_count": 49,
   "metadata": {},
   "outputs": [
    {
     "name": "stdout",
     "output_type": "stream",
     "text": [
      "+-----------------+------------------+--------------------+---------+---------------+---------+-----+-------+--------+----------+----------+----------+----------+------------+-------+---------+-------------+---------+-------------+--------------+\n",
      "|               ts|               uid|           id.orig_h|id.orig_p|      id.resp_h|id.resp_p|proto|service|duration|orig_bytes|resp_bytes|conn_state|local_orig|missed_bytes|history|orig_pkts|orig_ip_bytes|resp_pkts|resp_ip_bytes|tunnel_parents|\n",
      "+-----------------+------------------+--------------------+---------+---------------+---------+-----+-------+--------+----------+----------+----------+----------+------------+-------+---------+-------------+---------+-------------+--------------+\n",
      "|1332017951.670000|CZf32d2DTHeWpAwB53|fe80::4c9b:aad8:8...|    60563|        ff02::c|     1900|  udp|      -|    6.01|       708|         0|        S0|      null|           0|      D|        6|          996|        0|            0|       (empty)|\n",
      "|1332017952.420000| Cv1oPeSUMWsg8Q2Tj|      192.168.227.83|      138|192.168.227.255|      138|  udp|      -|    null|         -|         -|        S0|      null|           0|      D|        2|          493|        0|            0|       (empty)|\n",
      "+-----------------+------------------+--------------------+---------+---------------+---------+-----+-------+--------+----------+----------+----------+----------+------------+-------+---------+-------------+---------+-------------+--------------+\n",
      "only showing top 2 rows\n",
      "\n"
     ]
    }
   ],
   "source": [
    "df.show(2)"
   ]
  },
  {
   "cell_type": "code",
   "execution_count": null,
   "metadata": {},
   "outputs": [],
   "source": [
    "from pyspark.ml.clustering import KMeans\n",
    "from pyspark.ml.evaluation import ClusteringEvaluator\n",
    "\n",
    " \n",
    "\n",
    "# Trains a k-means model.\n",
    "kmeans = KMeans().setK(7).setSeed(1)\n",
    "model = kmeans.fit(router)\n",
    "\n",
    "# Make predictions\n",
    "predictions = model.transform(router)\n",
    "\n",
    "# Evaluate clustering by computing Silhouette score\n",
    "evaluator = ClusteringEvaluator()\n",
    "\n",
    "silhouette = evaluator.evaluate(predictions)\n",
    "print(\"Silhouette with squared euclidean distance = \" + str(silhouette))\n",
    "\n",
    "# Shows the result.\n",
    "centers = model.clusterCenters()\n",
    "print(\"Cluster Centers: \")\n",
    "for center in centers:\n",
    "    print(center)\n"
   ]
  },
  {
   "cell_type": "code",
   "execution_count": null,
   "metadata": {},
   "outputs": [],
   "source": [
    "dataset = spark.createDataFrame(\n",
    "        [(0, 18, 1.0, Vectors.dense([0.0, 10.0, 0.5]), 1.0)],\n",
    "        [\"id\", \"hour\", \"mobile\", \"userFeatures\", \"clicked\"])\n",
    "\n",
    "assembler = VectorAssembler(\n",
    "        inputCols=[\"hour\", \"mobile\", \"userFeatures\"],\n",
    "        outputCol=\"features\")\n",
    "\n",
    "output = assembler.transform(dataset)"
   ]
  },
  {
   "cell_type": "code",
   "execution_count": null,
   "metadata": {},
   "outputs": [],
   "source": [
    "for name, dtype in df.dtypes:\n",
    "     print(name, dtype)"
   ]
  },
  {
   "cell_type": "code",
   "execution_count": null,
   "metadata": {},
   "outputs": [],
   "source": [
    "router.columns"
   ]
  },
  {
   "cell_type": "code",
   "execution_count": null,
   "metadata": {},
   "outputs": [],
   "source": [
    "router.rdd.take(2)"
   ]
  },
  {
   "cell_type": "code",
   "execution_count": null,
   "metadata": {},
   "outputs": [],
   "source": [
    "dataset.rdd.take(2)"
   ]
  },
  {
   "cell_type": "code",
   "execution_count": 44,
   "metadata": {},
   "outputs": [
    {
     "data": {
      "text/plain": [
       "DenseVector([1.0, 0.0, 3.0])"
      ]
     },
     "execution_count": 44,
     "metadata": {},
     "output_type": "execute_result"
    }
   ],
   "source": [
    "df = spark.createDataFrame([(1, 0, 3)], [\"a\", \"b\", \"c\"])\n",
    "vecAssembler = VectorAssembler(inputCols=[\"a\", \"b\", \"c\"], outputCol=\"features\")\n",
    "vecAssembler.transform(df).head().features\n",
    "\n",
    " "
   ]
  },
  {
   "cell_type": "code",
   "execution_count": null,
   "metadata": {},
   "outputs": [],
   "source": [
    " "
   ]
  },
  {
   "cell_type": "code",
   "execution_count": null,
   "metadata": {},
   "outputs": [],
   "source": [
    " "
   ]
  }
 ],
 "metadata": {
  "kernelspec": {
   "display_name": "Python 3",
   "language": "python",
   "name": "python3"
  },
  "language_info": {
   "codemirror_mode": {
    "name": "ipython",
    "version": 3
   },
   "file_extension": ".py",
   "mimetype": "text/x-python",
   "name": "python",
   "nbconvert_exporter": "python",
   "pygments_lexer": "ipython3",
   "version": "3.5.2"
  }
 },
 "nbformat": 4,
 "nbformat_minor": 2
}
