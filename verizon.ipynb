{
 "cells": [
  {
   "cell_type": "code",
   "execution_count": 207,
   "metadata": {},
   "outputs": [],
   "source": [
    "from pyspark.sql.types import StructType, StructField, FloatType, BooleanType\n",
    "from pyspark.sql.types import DoubleType, IntegerType, StringType\n",
    "import pyspark\n",
    "from pyspark.ml.linalg import Vectors\n",
    "from pyspark.ml.feature import VectorAssembler\n",
    "from pyspark.sql.functions import lit\n",
    "from pyspark.sql.functions import udf, concat\n",
    " \n",
    "from pyspark import SQLContext\n",
    " \n",
    "conf = pyspark.SparkConf() \n",
    " \n",
    "sc = pyspark.SparkContext.getOrCreate(conf=conf)\n",
    "sqlcontext = SQLContext(sc)\n",
    "\n",
    "schema = StructType([\n",
    "    StructField(\"ts\", StringType(),True),    \n",
    "    StructField(\"uid\", StringType(),True),     \n",
    "    StructField(\"origh\", StringType(),True),         \n",
    "    StructField(\"origp\", StringType(),True),     \n",
    "    StructField(\"resph\", StringType(),True),      \n",
    "    StructField(\"respp\", StringType(),True),   \n",
    "    StructField(\"proto\", StringType(),True),     \n",
    "    StructField(\"service\" , StringType(),True),        \n",
    "    StructField(\"duration\", FloatType(),True),     \n",
    "    StructField(\"origbytes\", StringType(),True),     \n",
    "    StructField(\"respbytes\", StringType(),True),       \n",
    "    StructField(\"connstate\", StringType(),True),      \n",
    "    StructField(\"localorig\", StringType(),True),   \n",
    "    StructField(\"missedbytes\", StringType(),True),      \n",
    "    StructField(\"history\", StringType(),True),     \n",
    "    StructField(\"origpkts\", IntegerType(),True),     \n",
    "    StructField(\"origipbytes\", IntegerType(),True),       \n",
    "    StructField(\"resppkts\", IntegerType(),True),      \n",
    "    StructField(\"respipbytes\", IntegerType(),True),     \n",
    "    StructField(\"tunnelparents\", StringType(),True)    \n",
    "              ])\n",
    "        \n",
    "\n",
    "df = sqlcontext.read.csv(path=\"/home/ubuntu/Documents/forensics/tail.log\", sep=\"\\t\", schema=schema) \n",
    "\n",
    "\n"
   ]
  },
  {
   "cell_type": "code",
   "execution_count": 208,
   "metadata": {},
   "outputs": [],
   "source": [
    "colsInt = udf(lambda z: toInt(z), IntegerType())\n",
    "\n",
    "spark.udf.register(\"colsInt\", colsInt)\n",
    "\n",
    "def toInt(s):\n",
    "    if isinstance(s, str) == True:\n",
    "        st = [str(ord(i)) for i in s]\n",
    "        return(int(''.join(st)))\n",
    "    else:\n",
    "         return s\n"
   ]
  },
  {
   "cell_type": "code",
   "execution_count": 209,
   "metadata": {},
   "outputs": [],
   "source": [
    "a = df.withColumn( 'iorigp',colsInt('origp'))\n",
    "c = a.withColumn( 'irespp',colsInt('respp'))\n",
    "d = c.withColumn( 'iproto',colsInt('proto'))\n",
    "f = d.withColumn( 'iorigbytes',colsInt( 'origbytes'))\n",
    "g = f.withColumn( 'irespbytes',colsInt('respbytes'))\n",
    "h = g.withColumn(  'iorigpkts',colsInt( 'origpkts'))\n",
    "i = h.withColumn( 'iorigipbytes',colsInt('origipbytes'))\n",
    "\n",
    "columns =  ['iorigp','irespp','iproto','iorigbytes','irespbytes','iorigpkts','iorigipbytes']\n",
    "    \n",
    "    "
   ]
  },
  {
   "cell_type": "code",
   "execution_count": 210,
   "metadata": {},
   "outputs": [],
   "source": [
    "vecAssembler = VectorAssembler(inputCols=columns, outputCol=\"features\")\n",
    "router = vecAssembler.transform(i)"
   ]
  },
  {
   "cell_type": "code",
   "execution_count": 211,
   "metadata": {},
   "outputs": [],
   "source": [
    "from pyspark.ml.clustering import KMeans\n",
    "from pyspark.ml.evaluation import ClusteringEvaluator\n",
    "\n",
    " \n",
    "kmeans = KMeans().setK(7).setSeed(1)\n",
    "model = kmeans.fit(router)"
   ]
  },
  {
   "cell_type": "code",
   "execution_count": 212,
   "metadata": {},
   "outputs": [
    {
     "name": "stdout",
     "output_type": "stream",
     "text": [
      "Silhouette with squared euclidean distance = 0.6000000005495167\n",
      "Cluster Centers: \n",
      "[4.95152000e+05 4.95151000e+05 2.00917452e+09 4.50000000e+01\n",
      " 4.50000000e+01 1.00000000e+00 1.04000000e+02]\n",
      "[1.15356816e+09 4.95748480e+07 1.17100112e+08 5.54856000e+05\n",
      " 4.80000000e+01 6.00000000e+00 9.96000000e+02]\n",
      "[4.95156000e+05 4.95156000e+05 1.17100112e+08 4.50000000e+01\n",
      " 4.50000000e+01 2.00000000e+00 4.93000000e+02]\n",
      "[4.95051000e+05 4.95051000e+05 1.17100112e+08 4.50000000e+01\n",
      " 4.50000000e+01 1.00000000e+00 7.60000000e+01]\n",
      "[1.06057775e+09 1.06057775e+09 1.17100112e+08 5.65648000e+05\n",
      " 4.80000000e+01 2.00000000e+01 1.44000000e+03]\n",
      "[5.10000000e+01 4.90000000e+01 2.00917452e+09 5.54848000e+05\n",
      " 4.80000000e+01 2.50000000e+01 1.40000000e+03]\n",
      "[5.10000000e+01 5.10000000e+01 2.00917452e+09 5.05152000e+05\n",
      " 4.80000000e+01 3.00000000e+00 3.18000000e+02]\n"
     ]
    }
   ],
   "source": [
    " # Make predictions\n",
    "predictions = model.transform(router)\n",
    "\n",
    "# Evaluate clustering by computing Silhouette score\n",
    "evaluator = ClusteringEvaluator()\n",
    "\n",
    "silhouette = evaluator.evaluate(predictions)\n",
    "print(\"Silhouette with squared euclidean distance = \" + str(silhouette))\n",
    "\n",
    "# Shows the result.\n",
    "centers = model.clusterCenters()\n",
    "print(\"Cluster Centers: \")\n",
    "for center in centers:\n",
    "    print(center)\n",
    "\n",
    "\n",
    " \n",
    "\n",
    " "
   ]
  },
  {
   "cell_type": "code",
   "execution_count": 215,
   "metadata": {},
   "outputs": [
    {
     "name": "stdout",
     "output_type": "stream",
     "text": [
      "+----------+\n",
      "|prediction|\n",
      "+----------+\n",
      "|         1|\n",
      "|         2|\n",
      "|         3|\n",
      "|         4|\n",
      "|         4|\n",
      "|         3|\n",
      "|         5|\n",
      "|         0|\n",
      "|         6|\n",
      "|         0|\n",
      "+----------+\n",
      "\n"
     ]
    }
   ],
   "source": [
    " \n",
    "predictions.select(\"prediction\").show()"
   ]
  },
  {
   "cell_type": "code",
   "execution_count": null,
   "metadata": {},
   "outputs": [],
   "source": [
    "\n"
   ]
  },
  {
   "cell_type": "code",
   "execution_count": null,
   "metadata": {},
   "outputs": [],
   "source": [
    " "
   ]
  },
  {
   "cell_type": "code",
   "execution_count": null,
   "metadata": {},
   "outputs": [],
   "source": [
    "\n",
    " \n",
    "\n",
    "\n",
    "\n",
    " \n",
    " "
   ]
  },
  {
   "cell_type": "code",
   "execution_count": null,
   "metadata": {},
   "outputs": [],
   "source": [
    " \n"
   ]
  },
  {
   "cell_type": "code",
   "execution_count": null,
   "metadata": {},
   "outputs": [],
   "source": [
    " \n",
    " \n",
    " "
   ]
  },
  {
   "cell_type": "code",
   "execution_count": null,
   "metadata": {},
   "outputs": [],
   "source": [
    "\n",
    "\n"
   ]
  },
  {
   "cell_type": "code",
   "execution_count": null,
   "metadata": {},
   "outputs": [],
   "source": [
    "\n"
   ]
  },
  {
   "cell_type": "code",
   "execution_count": null,
   "metadata": {},
   "outputs": [],
   "source": []
  },
  {
   "cell_type": "code",
   "execution_count": null,
   "metadata": {},
   "outputs": [],
   "source": [
    " \n",
    "\n",
    " "
   ]
  },
  {
   "cell_type": "code",
   "execution_count": null,
   "metadata": {},
   "outputs": [],
   "source": [
    " "
   ]
  },
  {
   "cell_type": "code",
   "execution_count": null,
   "metadata": {},
   "outputs": [],
   "source": []
  },
  {
   "cell_type": "code",
   "execution_count": null,
   "metadata": {},
   "outputs": [],
   "source": [
    "\n",
    " "
   ]
  },
  {
   "cell_type": "code",
   "execution_count": null,
   "metadata": {},
   "outputs": [],
   "source": [
    " "
   ]
  },
  {
   "cell_type": "code",
   "execution_count": null,
   "metadata": {},
   "outputs": [],
   "source": [
    " "
   ]
  }
 ],
 "metadata": {
  "kernelspec": {
   "display_name": "Python 3",
   "language": "python",
   "name": "python3"
  },
  "language_info": {
   "codemirror_mode": {
    "name": "ipython",
    "version": 3
   },
   "file_extension": ".py",
   "mimetype": "text/x-python",
   "name": "python",
   "nbconvert_exporter": "python",
   "pygments_lexer": "ipython3",
   "version": "3.5.2"
  }
 },
 "nbformat": 4,
 "nbformat_minor": 2
}
