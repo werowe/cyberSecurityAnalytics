{
 "cells": [
  {
   "cell_type": "code",
   "execution_count": 158,
   "metadata": {},
   "outputs": [],
   "source": [
    "from pyspark.sql.types import StructType, StructField, FloatType, BooleanType\n",
    "from pyspark.sql.types import DoubleType, IntegerType, StringType\n",
    "import pyspark\n",
    "from pyspark.ml.linalg import Vectors\n",
    "from pyspark.ml.feature import VectorAssembler\n",
    "from pyspark.sql.functions import lit\n",
    "from pyspark.sql.functions import udf\n",
    " \n",
    "from pyspark import SQLContext\n",
    " \n",
    "conf = pyspark.SparkConf() \n",
    " \n",
    "sc = pyspark.SparkContext.getOrCreate(conf=conf)\n",
    "sqlcontext = SQLContext(sc)\n",
    "\n",
    "schema = StructType([\n",
    "    StructField(\"ts\", StringType(),True),    \n",
    "    StructField(\"uid\", StringType(),True),     \n",
    "    StructField(\"id.orig_h\", StringType(),True),         \n",
    "    StructField(\"id.orig_p\", StringType(),True),     \n",
    "    StructField(\"id.resp_h\", StringType(),True),      \n",
    "    StructField(\"id.resp_p\", StringType(),True),   \n",
    "    StructField(\"proto\", StringType(),True),     \n",
    "    StructField(\"service\" , StringType(),True),        \n",
    "    StructField(\"duration\", FloatType(),True),     \n",
    "    StructField(\"orig_bytes\", StringType(),True),     \n",
    "    StructField(\"resp_bytes\", StringType(),True),       \n",
    "    StructField(\"conn_state\", StringType(),True),      \n",
    "    StructField(\"local_orig\", BooleanType(),True),   \n",
    "    StructField(\"missed_bytes\", StringType(),True),      \n",
    "    StructField(\"history\", StringType(),True),     \n",
    "    StructField(\"orig_pkts\", IntegerType(),True),     \n",
    "    StructField(\"orig_ip_bytes\", IntegerType(),True),       \n",
    "    StructField(\"resp_pkts\", IntegerType(),True),      \n",
    "    StructField(\"resp_ip_bytes\", IntegerType(),True),     \n",
    "    StructField(\"tunnel_parents\", StringType(),True)    \n",
    "              ])\n",
    "        \n",
    "\n",
    "df = sqlcontext.read.csv(path=\"/home/ubuntu/Documents/forensics/tail.log\", sep=\"\\t\", schema=schema) \n",
    "\n",
    "\n",
    "\n",
    "columns = ['ts',\n",
    " 'uid',\n",
    " 'id.orig_h',\n",
    " 'id.orig_p',\n",
    " 'id.resp_h',\n",
    " 'id.resp_p',\n",
    " 'proto',\n",
    " 'service',\n",
    " 'duration',\n",
    " 'orig_bytes',\n",
    " 'resp_bytes',\n",
    " 'conn_state',\n",
    " 'local_orig',\n",
    " 'missed_bytes',\n",
    " 'history',\n",
    " 'orig_pkts',\n",
    " 'orig_ip_bytes',\n",
    " 'resp_pkts',\n",
    " 'resp_ip_bytes',\n",
    " 'tunnel_parents']\n"
   ]
  },
  {
   "cell_type": "code",
   "execution_count": 181,
   "metadata": {},
   "outputs": [],
   "source": [
    "def toInt(col):\n",
    "    s = lit(col)\n",
    "    if isinstance(s, str) == True:\n",
    "        st = [str(ord(i)) for i in s]\n",
    "        return(int(''.join(st)))\n",
    "    else:\n",
    "         return s\n",
    "\n",
    "spark.udf.register(\"toInt\", toInt)\n",
    "toInt_udf = udf(toInt, IntegerType())"
   ]
  },
  {
   "cell_type": "code",
   "execution_count": 174,
   "metadata": {},
   "outputs": [],
   "source": [
    "\n",
    "x = df.withColumn(\"xuid\", toInt(df.uid))\n",
    " \n",
    " \n",
    "    \n",
    "    "
   ]
  },
  {
   "cell_type": "code",
   "execution_count": 180,
   "metadata": {},
   "outputs": [
    {
     "name": "stdout",
     "output_type": "stream",
     "text": [
      "+-----------------+------------------+--------------------+---------+---------------+---------+-----+-------+--------+----------+----------+----------+----------+------------+-------+---------+-------------+---------+-------------+--------------+------------------+\n",
      "|               ts|               uid|           id.orig_h|id.orig_p|      id.resp_h|id.resp_p|proto|service|duration|orig_bytes|resp_bytes|conn_state|local_orig|missed_bytes|history|orig_pkts|orig_ip_bytes|resp_pkts|resp_ip_bytes|tunnel_parents|              xuid|\n",
      "+-----------------+------------------+--------------------+---------+---------------+---------+-----+-------+--------+----------+----------+----------+----------+------------+-------+---------+-------------+---------+-------------+--------------+------------------+\n",
      "|1332017951.670000|CZf32d2DTHeWpAwB53|fe80::4c9b:aad8:8...|    60563|        ff02::c|     1900|  udp|      -|    6.01|       708|         0|        S0|      null|           0|      D|        6|          996|        0|            0|       (empty)|CZf32d2DTHeWpAwB53|\n",
      "|1332017952.420000| Cv1oPeSUMWsg8Q2Tj|      192.168.227.83|      138|192.168.227.255|      138|  udp|      -|    null|         -|         -|        S0|      null|           0|      D|        2|          493|        0|            0|       (empty)| Cv1oPeSUMWsg8Q2Tj|\n",
      "|1332017958.730000|CQGJjb445jgqodszpg|      192.168.202.80|      123|    17.171.4.24|      123|  udp|      -|    null|         -|         -|        S0|      null|           0|      D|        1|           76|        0|            0|       (empty)|CQGJjb445jgqodszpg|\n",
      "+-----------------+------------------+--------------------+---------+---------------+---------+-----+-------+--------+----------+----------+----------+----------+------------+-------+---------+-------------+---------+-------------+--------------+------------------+\n",
      "only showing top 3 rows\n",
      "\n"
     ]
    }
   ],
   "source": [
    "x.show(3)"
   ]
  },
  {
   "cell_type": "code",
   "execution_count": 85,
   "metadata": {},
   "outputs": [
    {
     "data": {
      "text/plain": [
       "DataFrame[ts: string, uid: string, id.orig_h: string, id.orig_p: string, id.resp_h: string, id.resp_p: string, proto: string, service: string, duration: float, orig_bytes: string, resp_bytes: string, conn_state: string, local_orig: boolean, missed_bytes: string, history: string, orig_pkts: int, orig_ip_bytes: int, resp_pkts: int, resp_ip_bytes: int, tunnel_parents: string]"
      ]
     },
     "metadata": {},
     "output_type": "display_data"
    }
   ],
   "source": [
    "display(df)"
   ]
  },
  {
   "cell_type": "code",
   "execution_count": null,
   "metadata": {},
   "outputs": [],
   "source": []
  },
  {
   "cell_type": "code",
   "execution_count": null,
   "metadata": {},
   "outputs": [],
   "source": [
    "\n",
    " \n",
    "vecAssembler = VectorAssembler(inputCols=columns, outputCol=\"features\")\n",
    "vecAssembler.transform(router).head().features\n",
    "\n",
    "\n",
    " \n",
    " "
   ]
  },
  {
   "cell_type": "code",
   "execution_count": 83,
   "metadata": {},
   "outputs": [
    {
     "data": {
      "text/plain": [
       "['id.orig_h',\n",
       " 'id.orig_p',\n",
       " 'id.resp_h',\n",
       " 'id.resp_p',\n",
       " 'proto',\n",
       " 'service',\n",
       " 'duration',\n",
       " 'orig_bytes',\n",
       " 'resp_bytes',\n",
       " 'conn_state',\n",
       " 'missed_bytes',\n",
       " 'orig_pkts',\n",
       " 'orig_ip_bytes',\n",
       " 'resp_pkts',\n",
       " 'resp_ip_bytes']"
      ]
     },
     "execution_count": 83,
     "metadata": {},
     "output_type": "execute_result"
    }
   ],
   "source": [
    "router.columns"
   ]
  },
  {
   "cell_type": "code",
   "execution_count": 73,
   "metadata": {},
   "outputs": [
    {
     "data": {
      "text/plain": [
       "['ts',\n",
       " 'uid',\n",
       " 'id.orig_h',\n",
       " 'id.orig_p',\n",
       " 'id.resp_h',\n",
       " 'id.resp_p',\n",
       " 'proto',\n",
       " 'service',\n",
       " 'duration',\n",
       " 'orig_bytes',\n",
       " 'resp_bytes',\n",
       " 'conn_state',\n",
       " 'local_orig',\n",
       " 'missed_bytes',\n",
       " 'history',\n",
       " 'orig_pkts',\n",
       " 'orig_ip_bytes',\n",
       " 'resp_pkts',\n",
       " 'resp_ip_bytes',\n",
       " 'tunnel_parents']"
      ]
     },
     "execution_count": 73,
     "metadata": {},
     "output_type": "execute_result"
    }
   ],
   "source": [
    "df.columns"
   ]
  },
  {
   "cell_type": "code",
   "execution_count": null,
   "metadata": {},
   "outputs": [],
   "source": [
    "from pyspark.ml.clustering import KMeans\n",
    "from pyspark.ml.evaluation import ClusteringEvaluator\n",
    "\n",
    " \n",
    "\n",
    "# Trains a k-means model.\n",
    "kmeans = KMeans().setK(7).setSeed(1)\n",
    "model = kmeans.fit(router)\n",
    "\n",
    "# Make predictions\n",
    "predictions = model.transform(router)\n",
    "\n",
    "# Evaluate clustering by computing Silhouette score\n",
    "evaluator = ClusteringEvaluator()\n",
    "\n",
    "silhouette = evaluator.evaluate(predictions)\n",
    "print(\"Silhouette with squared euclidean distance = \" + str(silhouette))\n",
    "\n",
    "# Shows the result.\n",
    "centers = model.clusterCenters()\n",
    "print(\"Cluster Centers: \")\n",
    "for center in centers:\n",
    "    print(center)\n"
   ]
  },
  {
   "cell_type": "code",
   "execution_count": null,
   "metadata": {},
   "outputs": [],
   "source": [
    "dataset = spark.createDataFrame(\n",
    "        [(0, 18, 1.0, Vectors.dense([0.0, 10.0, 0.5]), 1.0)],\n",
    "        [\"id\", \"hour\", \"mobile\", \"userFeatures\", \"clicked\"])\n",
    "\n",
    "assembler = VectorAssembler(\n",
    "        inputCols=[\"hour\", \"mobile\", \"userFeatures\"],\n",
    "        outputCol=\"features\")\n",
    "\n",
    "output = assembler.transform(dataset)"
   ]
  },
  {
   "cell_type": "code",
   "execution_count": null,
   "metadata": {},
   "outputs": [],
   "source": [
    "for name, dtype in df.dtypes:\n",
    "     print(name, dtype)"
   ]
  },
  {
   "cell_type": "code",
   "execution_count": null,
   "metadata": {},
   "outputs": [],
   "source": [
    "router.columns"
   ]
  },
  {
   "cell_type": "code",
   "execution_count": null,
   "metadata": {},
   "outputs": [],
   "source": [
    "router.rdd.take(2)"
   ]
  },
  {
   "cell_type": "code",
   "execution_count": null,
   "metadata": {},
   "outputs": [],
   "source": [
    "dataset.rdd.take(2)"
   ]
  },
  {
   "cell_type": "code",
   "execution_count": 44,
   "metadata": {},
   "outputs": [
    {
     "data": {
      "text/plain": [
       "DenseVector([1.0, 0.0, 3.0])"
      ]
     },
     "execution_count": 44,
     "metadata": {},
     "output_type": "execute_result"
    }
   ],
   "source": [
    "df = spark.createDataFrame([(1, 0, 3)], [\"a\", \"b\", \"c\"])\n",
    "vecAssembler = VectorAssembler(inputCols=[\"a\", \"b\", \"c\"], outputCol=\"features\")\n",
    "vecAssembler.transform(df).head().features\n",
    "\n",
    " "
   ]
  },
  {
   "cell_type": "code",
   "execution_count": null,
   "metadata": {},
   "outputs": [],
   "source": [
    " "
   ]
  },
  {
   "cell_type": "code",
   "execution_count": null,
   "metadata": {},
   "outputs": [],
   "source": [
    " "
   ]
  }
 ],
 "metadata": {
  "kernelspec": {
   "display_name": "Python 3",
   "language": "python",
   "name": "python3"
  },
  "language_info": {
   "codemirror_mode": {
    "name": "ipython",
    "version": 3
   },
   "file_extension": ".py",
   "mimetype": "text/x-python",
   "name": "python",
   "nbconvert_exporter": "python",
   "pygments_lexer": "ipython3",
   "version": "3.5.2"
  }
 },
 "nbformat": 4,
 "nbformat_minor": 2
}
