{
 "cells": [
  {
   "cell_type": "code",
   "execution_count": 30,
   "metadata": {},
   "outputs": [],
   "source": [
    "from pyspark.sql.types import StructType, StructField, FloatType, BooleanType\n",
    "from pyspark.sql.types import DoubleType, IntegerType, StringType\n",
    "import pyspark\n",
    "from pyspark.ml.linalg import Vectors\n",
    "from pyspark.ml.feature import VectorAssembler\n",
    "from pyspark.sql.functions import lit\n",
    "from pyspark.sql.functions import udf, concat\n",
    " \n",
    "from pyspark import SQLContext\n",
    " \n",
    "conf = pyspark.SparkConf() \n",
    " \n",
    "sc = pyspark.SparkContext.getOrCreate(conf=conf)\n",
    "sqlcontext = SQLContext(sc)\n",
    "\n",
    "schema = StructType([\n",
    "    StructField(\"ts\", StringType(),True),    \n",
    "    StructField(\"uid\", StringType(),True),     \n",
    "    StructField(\"origh\", StringType(),True),         \n",
    "    StructField(\"origp\", StringType(),True),     \n",
    "    StructField(\"resph\", StringType(),True),      \n",
    "    StructField(\"respp\", StringType(),True),   \n",
    "    StructField(\"proto\", StringType(),True),     \n",
    "    StructField(\"service\" , StringType(),True),        \n",
    "    StructField(\"duration\", FloatType(),True),     \n",
    "    StructField(\"origbytes\", StringType(),True),     \n",
    "    StructField(\"respbytes\", StringType(),True),       \n",
    "    StructField(\"connstate\", StringType(),True),      \n",
    "    StructField(\"localorig\", StringType(),True),   \n",
    "    StructField(\"missedbytes\", StringType(),True),      \n",
    "    StructField(\"history\", StringType(),True),     \n",
    "    StructField(\"origpkts\", IntegerType(),True),     \n",
    "    StructField(\"origipbytes\", IntegerType(),True),       \n",
    "    StructField(\"resppkts\", IntegerType(),True),      \n",
    "    StructField(\"respipbytes\", IntegerType(),True),     \n",
    "    StructField(\"tunnelparents\", StringType(),True)    \n",
    "              ])\n",
    "        \n",
    "\n",
    "df = sqlcontext.read.csv(path=\"/home/ubuntu/Documents/forensics/bigger.log\", sep=\"\\t\", schema=schema) \n",
    "df2 = df.fillna(0)\n",
    "\n"
   ]
  },
  {
   "cell_type": "code",
   "execution_count": 31,
   "metadata": {},
   "outputs": [],
   "source": [
    "colsInt = udf(lambda z: toInt(z), IntegerType())\n",
    "\n",
    "sqlcontext.udf.register(\"colsInt\", colsInt)\n",
    "\n",
    "def toInt(s):\n",
    "    if not s:\n",
    "        return 0\n",
    "    if isinstance(s, str) == True:\n",
    "        st = [str(ord(i)) for i in s]\n",
    "        return(int(''.join(st)))\n",
    "    else:\n",
    "        return s\n"
   ]
  },
  {
   "cell_type": "code",
   "execution_count": null,
   "metadata": {},
   "outputs": [],
   "source": [
    "\n",
    " "
   ]
  },
  {
   "cell_type": "code",
   "execution_count": 32,
   "metadata": {},
   "outputs": [],
   "source": [
    "a = df2.withColumn( 'iorigp',colsInt('origp'))\n",
    "c = a.withColumn( 'irespp',colsInt('respp'))\n",
    "d = c.withColumn( 'iproto',colsInt('proto'))\n",
    "e = d.withColumn('iorigh',colsInt('origh'))\n",
    "f = e.withColumn( 'iorigbytes',colsInt( 'origbytes'))\n",
    "g = f.withColumn( 'irespbytes',colsInt('respbytes'))\n",
    "h = g.withColumn(  'iorigpkts',colsInt( 'origpkts'))\n",
    "i = h.withColumn( 'iorigipbytes',colsInt('origipbytes'))\n",
    "\n",
    "columns =  ['iorigp','irespp','iproto', 'iorigbytes','irespbytes','iorigpkts','iorigipbytes']\n",
    "    \n",
    "    "
   ]
  },
  {
   "cell_type": "code",
   "execution_count": 33,
   "metadata": {},
   "outputs": [],
   "source": [
    "vecAssembler = VectorAssembler(inputCols=columns, outputCol=\"features\")\n",
    "router = vecAssembler.transform(i)"
   ]
  },
  {
   "cell_type": "code",
   "execution_count": 34,
   "metadata": {},
   "outputs": [],
   "source": [
    "from pyspark.ml.clustering import KMeans\n",
    "from pyspark.ml.evaluation import ClusteringEvaluator\n",
    "\n",
    " \n",
    "kmeans = KMeans().setK(7).setSeed(1)\n",
    "model = kmeans.fit(router)"
   ]
  },
  {
   "cell_type": "code",
   "execution_count": 35,
   "metadata": {},
   "outputs": [],
   "source": [
    "\n",
    "predictions = model.transform(router)\n",
    "\n",
    "\n",
    " \n",
    "\n",
    " "
   ]
  },
  {
   "cell_type": "code",
   "execution_count": null,
   "metadata": {},
   "outputs": [],
   "source": []
  },
  {
   "cell_type": "code",
   "execution_count": null,
   "metadata": {},
   "outputs": [],
   "source": []
  },
  {
   "cell_type": "code",
   "execution_count": 45,
   "metadata": {},
   "outputs": [
    {
     "data": {
      "application/vnd.plotly.v1+json": {
       "config": {
        "plotlyServerURL": "https://plot.ly"
       },
       "data": [
        {
         "type": "bar",
         "x": [
          1,
          6,
          3,
          5,
          4,
          2,
          0
         ],
         "y": [
          40303,
          17685,
          6321,
          3197,
          12807,
          171,
          19516
         ]
        }
       ],
       "layout": {
        "template": {
         "data": {
          "bar": [
           {
            "error_x": {
             "color": "#2a3f5f"
            },
            "error_y": {
             "color": "#2a3f5f"
            },
            "marker": {
             "line": {
              "color": "#E5ECF6",
              "width": 0.5
             }
            },
            "type": "bar"
           }
          ],
          "barpolar": [
           {
            "marker": {
             "line": {
              "color": "#E5ECF6",
              "width": 0.5
             }
            },
            "type": "barpolar"
           }
          ],
          "carpet": [
           {
            "aaxis": {
             "endlinecolor": "#2a3f5f",
             "gridcolor": "white",
             "linecolor": "white",
             "minorgridcolor": "white",
             "startlinecolor": "#2a3f5f"
            },
            "baxis": {
             "endlinecolor": "#2a3f5f",
             "gridcolor": "white",
             "linecolor": "white",
             "minorgridcolor": "white",
             "startlinecolor": "#2a3f5f"
            },
            "type": "carpet"
           }
          ],
          "choropleth": [
           {
            "colorbar": {
             "outlinewidth": 0,
             "ticks": ""
            },
            "type": "choropleth"
           }
          ],
          "contour": [
           {
            "colorbar": {
             "outlinewidth": 0,
             "ticks": ""
            },
            "colorscale": [
             [
              0,
              "#0d0887"
             ],
             [
              0.1111111111111111,
              "#46039f"
             ],
             [
              0.2222222222222222,
              "#7201a8"
             ],
             [
              0.3333333333333333,
              "#9c179e"
             ],
             [
              0.4444444444444444,
              "#bd3786"
             ],
             [
              0.5555555555555556,
              "#d8576b"
             ],
             [
              0.6666666666666666,
              "#ed7953"
             ],
             [
              0.7777777777777778,
              "#fb9f3a"
             ],
             [
              0.8888888888888888,
              "#fdca26"
             ],
             [
              1,
              "#f0f921"
             ]
            ],
            "type": "contour"
           }
          ],
          "contourcarpet": [
           {
            "colorbar": {
             "outlinewidth": 0,
             "ticks": ""
            },
            "type": "contourcarpet"
           }
          ],
          "heatmap": [
           {
            "colorbar": {
             "outlinewidth": 0,
             "ticks": ""
            },
            "colorscale": [
             [
              0,
              "#0d0887"
             ],
             [
              0.1111111111111111,
              "#46039f"
             ],
             [
              0.2222222222222222,
              "#7201a8"
             ],
             [
              0.3333333333333333,
              "#9c179e"
             ],
             [
              0.4444444444444444,
              "#bd3786"
             ],
             [
              0.5555555555555556,
              "#d8576b"
             ],
             [
              0.6666666666666666,
              "#ed7953"
             ],
             [
              0.7777777777777778,
              "#fb9f3a"
             ],
             [
              0.8888888888888888,
              "#fdca26"
             ],
             [
              1,
              "#f0f921"
             ]
            ],
            "type": "heatmap"
           }
          ],
          "heatmapgl": [
           {
            "colorbar": {
             "outlinewidth": 0,
             "ticks": ""
            },
            "colorscale": [
             [
              0,
              "#0d0887"
             ],
             [
              0.1111111111111111,
              "#46039f"
             ],
             [
              0.2222222222222222,
              "#7201a8"
             ],
             [
              0.3333333333333333,
              "#9c179e"
             ],
             [
              0.4444444444444444,
              "#bd3786"
             ],
             [
              0.5555555555555556,
              "#d8576b"
             ],
             [
              0.6666666666666666,
              "#ed7953"
             ],
             [
              0.7777777777777778,
              "#fb9f3a"
             ],
             [
              0.8888888888888888,
              "#fdca26"
             ],
             [
              1,
              "#f0f921"
             ]
            ],
            "type": "heatmapgl"
           }
          ],
          "histogram": [
           {
            "marker": {
             "colorbar": {
              "outlinewidth": 0,
              "ticks": ""
             }
            },
            "type": "histogram"
           }
          ],
          "histogram2d": [
           {
            "colorbar": {
             "outlinewidth": 0,
             "ticks": ""
            },
            "colorscale": [
             [
              0,
              "#0d0887"
             ],
             [
              0.1111111111111111,
              "#46039f"
             ],
             [
              0.2222222222222222,
              "#7201a8"
             ],
             [
              0.3333333333333333,
              "#9c179e"
             ],
             [
              0.4444444444444444,
              "#bd3786"
             ],
             [
              0.5555555555555556,
              "#d8576b"
             ],
             [
              0.6666666666666666,
              "#ed7953"
             ],
             [
              0.7777777777777778,
              "#fb9f3a"
             ],
             [
              0.8888888888888888,
              "#fdca26"
             ],
             [
              1,
              "#f0f921"
             ]
            ],
            "type": "histogram2d"
           }
          ],
          "histogram2dcontour": [
           {
            "colorbar": {
             "outlinewidth": 0,
             "ticks": ""
            },
            "colorscale": [
             [
              0,
              "#0d0887"
             ],
             [
              0.1111111111111111,
              "#46039f"
             ],
             [
              0.2222222222222222,
              "#7201a8"
             ],
             [
              0.3333333333333333,
              "#9c179e"
             ],
             [
              0.4444444444444444,
              "#bd3786"
             ],
             [
              0.5555555555555556,
              "#d8576b"
             ],
             [
              0.6666666666666666,
              "#ed7953"
             ],
             [
              0.7777777777777778,
              "#fb9f3a"
             ],
             [
              0.8888888888888888,
              "#fdca26"
             ],
             [
              1,
              "#f0f921"
             ]
            ],
            "type": "histogram2dcontour"
           }
          ],
          "mesh3d": [
           {
            "colorbar": {
             "outlinewidth": 0,
             "ticks": ""
            },
            "type": "mesh3d"
           }
          ],
          "parcoords": [
           {
            "line": {
             "colorbar": {
              "outlinewidth": 0,
              "ticks": ""
             }
            },
            "type": "parcoords"
           }
          ],
          "scatter": [
           {
            "marker": {
             "colorbar": {
              "outlinewidth": 0,
              "ticks": ""
             }
            },
            "type": "scatter"
           }
          ],
          "scatter3d": [
           {
            "line": {
             "colorbar": {
              "outlinewidth": 0,
              "ticks": ""
             }
            },
            "marker": {
             "colorbar": {
              "outlinewidth": 0,
              "ticks": ""
             }
            },
            "type": "scatter3d"
           }
          ],
          "scattercarpet": [
           {
            "marker": {
             "colorbar": {
              "outlinewidth": 0,
              "ticks": ""
             }
            },
            "type": "scattercarpet"
           }
          ],
          "scattergeo": [
           {
            "marker": {
             "colorbar": {
              "outlinewidth": 0,
              "ticks": ""
             }
            },
            "type": "scattergeo"
           }
          ],
          "scattergl": [
           {
            "marker": {
             "colorbar": {
              "outlinewidth": 0,
              "ticks": ""
             }
            },
            "type": "scattergl"
           }
          ],
          "scattermapbox": [
           {
            "marker": {
             "colorbar": {
              "outlinewidth": 0,
              "ticks": ""
             }
            },
            "type": "scattermapbox"
           }
          ],
          "scatterpolar": [
           {
            "marker": {
             "colorbar": {
              "outlinewidth": 0,
              "ticks": ""
             }
            },
            "type": "scatterpolar"
           }
          ],
          "scatterpolargl": [
           {
            "marker": {
             "colorbar": {
              "outlinewidth": 0,
              "ticks": ""
             }
            },
            "type": "scatterpolargl"
           }
          ],
          "scatterternary": [
           {
            "marker": {
             "colorbar": {
              "outlinewidth": 0,
              "ticks": ""
             }
            },
            "type": "scatterternary"
           }
          ],
          "surface": [
           {
            "colorbar": {
             "outlinewidth": 0,
             "ticks": ""
            },
            "colorscale": [
             [
              0,
              "#0d0887"
             ],
             [
              0.1111111111111111,
              "#46039f"
             ],
             [
              0.2222222222222222,
              "#7201a8"
             ],
             [
              0.3333333333333333,
              "#9c179e"
             ],
             [
              0.4444444444444444,
              "#bd3786"
             ],
             [
              0.5555555555555556,
              "#d8576b"
             ],
             [
              0.6666666666666666,
              "#ed7953"
             ],
             [
              0.7777777777777778,
              "#fb9f3a"
             ],
             [
              0.8888888888888888,
              "#fdca26"
             ],
             [
              1,
              "#f0f921"
             ]
            ],
            "type": "surface"
           }
          ],
          "table": [
           {
            "cells": {
             "fill": {
              "color": "#EBF0F8"
             },
             "line": {
              "color": "white"
             }
            },
            "header": {
             "fill": {
              "color": "#C8D4E3"
             },
             "line": {
              "color": "white"
             }
            },
            "type": "table"
           }
          ]
         },
         "layout": {
          "annotationdefaults": {
           "arrowcolor": "#2a3f5f",
           "arrowhead": 0,
           "arrowwidth": 1
          },
          "colorscale": {
           "diverging": [
            [
             0,
             "#8e0152"
            ],
            [
             0.1,
             "#c51b7d"
            ],
            [
             0.2,
             "#de77ae"
            ],
            [
             0.3,
             "#f1b6da"
            ],
            [
             0.4,
             "#fde0ef"
            ],
            [
             0.5,
             "#f7f7f7"
            ],
            [
             0.6,
             "#e6f5d0"
            ],
            [
             0.7,
             "#b8e186"
            ],
            [
             0.8,
             "#7fbc41"
            ],
            [
             0.9,
             "#4d9221"
            ],
            [
             1,
             "#276419"
            ]
           ],
           "sequential": [
            [
             0,
             "#0d0887"
            ],
            [
             0.1111111111111111,
             "#46039f"
            ],
            [
             0.2222222222222222,
             "#7201a8"
            ],
            [
             0.3333333333333333,
             "#9c179e"
            ],
            [
             0.4444444444444444,
             "#bd3786"
            ],
            [
             0.5555555555555556,
             "#d8576b"
            ],
            [
             0.6666666666666666,
             "#ed7953"
            ],
            [
             0.7777777777777778,
             "#fb9f3a"
            ],
            [
             0.8888888888888888,
             "#fdca26"
            ],
            [
             1,
             "#f0f921"
            ]
           ],
           "sequentialminus": [
            [
             0,
             "#0d0887"
            ],
            [
             0.1111111111111111,
             "#46039f"
            ],
            [
             0.2222222222222222,
             "#7201a8"
            ],
            [
             0.3333333333333333,
             "#9c179e"
            ],
            [
             0.4444444444444444,
             "#bd3786"
            ],
            [
             0.5555555555555556,
             "#d8576b"
            ],
            [
             0.6666666666666666,
             "#ed7953"
            ],
            [
             0.7777777777777778,
             "#fb9f3a"
            ],
            [
             0.8888888888888888,
             "#fdca26"
            ],
            [
             1,
             "#f0f921"
            ]
           ]
          },
          "colorway": [
           "#636efa",
           "#EF553B",
           "#00cc96",
           "#ab63fa",
           "#FFA15A",
           "#19d3f3",
           "#FF6692",
           "#B6E880",
           "#FF97FF",
           "#FECB52"
          ],
          "font": {
           "color": "#2a3f5f"
          },
          "geo": {
           "bgcolor": "white",
           "lakecolor": "white",
           "landcolor": "#E5ECF6",
           "showlakes": true,
           "showland": true,
           "subunitcolor": "white"
          },
          "hoverlabel": {
           "align": "left"
          },
          "hovermode": "closest",
          "mapbox": {
           "style": "light"
          },
          "paper_bgcolor": "white",
          "plot_bgcolor": "#E5ECF6",
          "polar": {
           "angularaxis": {
            "gridcolor": "white",
            "linecolor": "white",
            "ticks": ""
           },
           "bgcolor": "#E5ECF6",
           "radialaxis": {
            "gridcolor": "white",
            "linecolor": "white",
            "ticks": ""
           }
          },
          "scene": {
           "xaxis": {
            "backgroundcolor": "#E5ECF6",
            "gridcolor": "white",
            "gridwidth": 2,
            "linecolor": "white",
            "showbackground": true,
            "ticks": "",
            "zerolinecolor": "white"
           },
           "yaxis": {
            "backgroundcolor": "#E5ECF6",
            "gridcolor": "white",
            "gridwidth": 2,
            "linecolor": "white",
            "showbackground": true,
            "ticks": "",
            "zerolinecolor": "white"
           },
           "zaxis": {
            "backgroundcolor": "#E5ECF6",
            "gridcolor": "white",
            "gridwidth": 2,
            "linecolor": "white",
            "showbackground": true,
            "ticks": "",
            "zerolinecolor": "white"
           }
          },
          "shapedefaults": {
           "line": {
            "color": "#2a3f5f"
           }
          },
          "ternary": {
           "aaxis": {
            "gridcolor": "white",
            "linecolor": "white",
            "ticks": ""
           },
           "baxis": {
            "gridcolor": "white",
            "linecolor": "white",
            "ticks": ""
           },
           "bgcolor": "#E5ECF6",
           "caxis": {
            "gridcolor": "white",
            "linecolor": "white",
            "ticks": ""
           }
          },
          "title": {
           "x": 0.05
          },
          "xaxis": {
           "automargin": true,
           "gridcolor": "white",
           "linecolor": "white",
           "ticks": "",
           "zerolinecolor": "white",
           "zerolinewidth": 2
          },
          "yaxis": {
           "automargin": true,
           "gridcolor": "white",
           "linecolor": "white",
           "ticks": "",
           "zerolinecolor": "white",
           "zerolinewidth": 2
          }
         }
        },
        "title": {
         "text": "K Means Count"
        }
       }
      },
      "text/html": [
       "<div>\n",
       "        \n",
       "        \n",
       "            <div id=\"e25ad7fd-9602-4d7c-aecf-7bd147a481eb\" class=\"plotly-graph-div\" style=\"height:525px; width:100%;\"></div>\n",
       "            <script type=\"text/javascript\">\n",
       "                require([\"plotly\"], function(Plotly) {\n",
       "                    window.PLOTLYENV=window.PLOTLYENV || {};\n",
       "                    \n",
       "                if (document.getElementById(\"e25ad7fd-9602-4d7c-aecf-7bd147a481eb\")) {\n",
       "                    Plotly.newPlot(\n",
       "                        'e25ad7fd-9602-4d7c-aecf-7bd147a481eb',\n",
       "                        [{\"type\": \"bar\", \"x\": [1, 6, 3, 5, 4, 2, 0], \"y\": [40303, 17685, 6321, 3197, 12807, 171, 19516]}],\n",
       "                        {\"template\": {\"data\": {\"bar\": [{\"error_x\": {\"color\": \"#2a3f5f\"}, \"error_y\": {\"color\": \"#2a3f5f\"}, \"marker\": {\"line\": {\"color\": \"#E5ECF6\", \"width\": 0.5}}, \"type\": \"bar\"}], \"barpolar\": [{\"marker\": {\"line\": {\"color\": \"#E5ECF6\", \"width\": 0.5}}, \"type\": \"barpolar\"}], \"carpet\": [{\"aaxis\": {\"endlinecolor\": \"#2a3f5f\", \"gridcolor\": \"white\", \"linecolor\": \"white\", \"minorgridcolor\": \"white\", \"startlinecolor\": \"#2a3f5f\"}, \"baxis\": {\"endlinecolor\": \"#2a3f5f\", \"gridcolor\": \"white\", \"linecolor\": \"white\", \"minorgridcolor\": \"white\", \"startlinecolor\": \"#2a3f5f\"}, \"type\": \"carpet\"}], \"choropleth\": [{\"colorbar\": {\"outlinewidth\": 0, \"ticks\": \"\"}, \"type\": \"choropleth\"}], \"contour\": [{\"colorbar\": {\"outlinewidth\": 0, \"ticks\": \"\"}, \"colorscale\": [[0.0, \"#0d0887\"], [0.1111111111111111, \"#46039f\"], [0.2222222222222222, \"#7201a8\"], [0.3333333333333333, \"#9c179e\"], [0.4444444444444444, \"#bd3786\"], [0.5555555555555556, \"#d8576b\"], [0.6666666666666666, \"#ed7953\"], [0.7777777777777778, \"#fb9f3a\"], [0.8888888888888888, \"#fdca26\"], [1.0, \"#f0f921\"]], \"type\": \"contour\"}], \"contourcarpet\": [{\"colorbar\": {\"outlinewidth\": 0, \"ticks\": \"\"}, \"type\": \"contourcarpet\"}], \"heatmap\": [{\"colorbar\": {\"outlinewidth\": 0, \"ticks\": \"\"}, \"colorscale\": [[0.0, \"#0d0887\"], [0.1111111111111111, \"#46039f\"], [0.2222222222222222, \"#7201a8\"], [0.3333333333333333, \"#9c179e\"], [0.4444444444444444, \"#bd3786\"], [0.5555555555555556, \"#d8576b\"], [0.6666666666666666, \"#ed7953\"], [0.7777777777777778, \"#fb9f3a\"], [0.8888888888888888, \"#fdca26\"], [1.0, \"#f0f921\"]], \"type\": \"heatmap\"}], \"heatmapgl\": [{\"colorbar\": {\"outlinewidth\": 0, \"ticks\": \"\"}, \"colorscale\": [[0.0, \"#0d0887\"], [0.1111111111111111, \"#46039f\"], [0.2222222222222222, \"#7201a8\"], [0.3333333333333333, \"#9c179e\"], [0.4444444444444444, \"#bd3786\"], [0.5555555555555556, \"#d8576b\"], [0.6666666666666666, \"#ed7953\"], [0.7777777777777778, \"#fb9f3a\"], [0.8888888888888888, \"#fdca26\"], [1.0, \"#f0f921\"]], \"type\": \"heatmapgl\"}], \"histogram\": [{\"marker\": {\"colorbar\": {\"outlinewidth\": 0, \"ticks\": \"\"}}, \"type\": \"histogram\"}], \"histogram2d\": [{\"colorbar\": {\"outlinewidth\": 0, \"ticks\": \"\"}, \"colorscale\": [[0.0, \"#0d0887\"], [0.1111111111111111, \"#46039f\"], [0.2222222222222222, \"#7201a8\"], [0.3333333333333333, \"#9c179e\"], [0.4444444444444444, \"#bd3786\"], [0.5555555555555556, \"#d8576b\"], [0.6666666666666666, \"#ed7953\"], [0.7777777777777778, \"#fb9f3a\"], [0.8888888888888888, \"#fdca26\"], [1.0, \"#f0f921\"]], \"type\": \"histogram2d\"}], \"histogram2dcontour\": [{\"colorbar\": {\"outlinewidth\": 0, \"ticks\": \"\"}, \"colorscale\": [[0.0, \"#0d0887\"], [0.1111111111111111, \"#46039f\"], [0.2222222222222222, \"#7201a8\"], [0.3333333333333333, \"#9c179e\"], [0.4444444444444444, \"#bd3786\"], [0.5555555555555556, \"#d8576b\"], [0.6666666666666666, \"#ed7953\"], [0.7777777777777778, \"#fb9f3a\"], [0.8888888888888888, \"#fdca26\"], [1.0, \"#f0f921\"]], \"type\": \"histogram2dcontour\"}], \"mesh3d\": [{\"colorbar\": {\"outlinewidth\": 0, \"ticks\": \"\"}, \"type\": \"mesh3d\"}], \"parcoords\": [{\"line\": {\"colorbar\": {\"outlinewidth\": 0, \"ticks\": \"\"}}, \"type\": \"parcoords\"}], \"scatter\": [{\"marker\": {\"colorbar\": {\"outlinewidth\": 0, \"ticks\": \"\"}}, \"type\": \"scatter\"}], \"scatter3d\": [{\"line\": {\"colorbar\": {\"outlinewidth\": 0, \"ticks\": \"\"}}, \"marker\": {\"colorbar\": {\"outlinewidth\": 0, \"ticks\": \"\"}}, \"type\": \"scatter3d\"}], \"scattercarpet\": [{\"marker\": {\"colorbar\": {\"outlinewidth\": 0, \"ticks\": \"\"}}, \"type\": \"scattercarpet\"}], \"scattergeo\": [{\"marker\": {\"colorbar\": {\"outlinewidth\": 0, \"ticks\": \"\"}}, \"type\": \"scattergeo\"}], \"scattergl\": [{\"marker\": {\"colorbar\": {\"outlinewidth\": 0, \"ticks\": \"\"}}, \"type\": \"scattergl\"}], \"scattermapbox\": [{\"marker\": {\"colorbar\": {\"outlinewidth\": 0, \"ticks\": \"\"}}, \"type\": \"scattermapbox\"}], \"scatterpolar\": [{\"marker\": {\"colorbar\": {\"outlinewidth\": 0, \"ticks\": \"\"}}, \"type\": \"scatterpolar\"}], \"scatterpolargl\": [{\"marker\": {\"colorbar\": {\"outlinewidth\": 0, \"ticks\": \"\"}}, \"type\": \"scatterpolargl\"}], \"scatterternary\": [{\"marker\": {\"colorbar\": {\"outlinewidth\": 0, \"ticks\": \"\"}}, \"type\": \"scatterternary\"}], \"surface\": [{\"colorbar\": {\"outlinewidth\": 0, \"ticks\": \"\"}, \"colorscale\": [[0.0, \"#0d0887\"], [0.1111111111111111, \"#46039f\"], [0.2222222222222222, \"#7201a8\"], [0.3333333333333333, \"#9c179e\"], [0.4444444444444444, \"#bd3786\"], [0.5555555555555556, \"#d8576b\"], [0.6666666666666666, \"#ed7953\"], [0.7777777777777778, \"#fb9f3a\"], [0.8888888888888888, \"#fdca26\"], [1.0, \"#f0f921\"]], \"type\": \"surface\"}], \"table\": [{\"cells\": {\"fill\": {\"color\": \"#EBF0F8\"}, \"line\": {\"color\": \"white\"}}, \"header\": {\"fill\": {\"color\": \"#C8D4E3\"}, \"line\": {\"color\": \"white\"}}, \"type\": \"table\"}]}, \"layout\": {\"annotationdefaults\": {\"arrowcolor\": \"#2a3f5f\", \"arrowhead\": 0, \"arrowwidth\": 1}, \"colorscale\": {\"diverging\": [[0, \"#8e0152\"], [0.1, \"#c51b7d\"], [0.2, \"#de77ae\"], [0.3, \"#f1b6da\"], [0.4, \"#fde0ef\"], [0.5, \"#f7f7f7\"], [0.6, \"#e6f5d0\"], [0.7, \"#b8e186\"], [0.8, \"#7fbc41\"], [0.9, \"#4d9221\"], [1, \"#276419\"]], \"sequential\": [[0.0, \"#0d0887\"], [0.1111111111111111, \"#46039f\"], [0.2222222222222222, \"#7201a8\"], [0.3333333333333333, \"#9c179e\"], [0.4444444444444444, \"#bd3786\"], [0.5555555555555556, \"#d8576b\"], [0.6666666666666666, \"#ed7953\"], [0.7777777777777778, \"#fb9f3a\"], [0.8888888888888888, \"#fdca26\"], [1.0, \"#f0f921\"]], \"sequentialminus\": [[0.0, \"#0d0887\"], [0.1111111111111111, \"#46039f\"], [0.2222222222222222, \"#7201a8\"], [0.3333333333333333, \"#9c179e\"], [0.4444444444444444, \"#bd3786\"], [0.5555555555555556, \"#d8576b\"], [0.6666666666666666, \"#ed7953\"], [0.7777777777777778, \"#fb9f3a\"], [0.8888888888888888, \"#fdca26\"], [1.0, \"#f0f921\"]]}, \"colorway\": [\"#636efa\", \"#EF553B\", \"#00cc96\", \"#ab63fa\", \"#FFA15A\", \"#19d3f3\", \"#FF6692\", \"#B6E880\", \"#FF97FF\", \"#FECB52\"], \"font\": {\"color\": \"#2a3f5f\"}, \"geo\": {\"bgcolor\": \"white\", \"lakecolor\": \"white\", \"landcolor\": \"#E5ECF6\", \"showlakes\": true, \"showland\": true, \"subunitcolor\": \"white\"}, \"hoverlabel\": {\"align\": \"left\"}, \"hovermode\": \"closest\", \"mapbox\": {\"style\": \"light\"}, \"paper_bgcolor\": \"white\", \"plot_bgcolor\": \"#E5ECF6\", \"polar\": {\"angularaxis\": {\"gridcolor\": \"white\", \"linecolor\": \"white\", \"ticks\": \"\"}, \"bgcolor\": \"#E5ECF6\", \"radialaxis\": {\"gridcolor\": \"white\", \"linecolor\": \"white\", \"ticks\": \"\"}}, \"scene\": {\"xaxis\": {\"backgroundcolor\": \"#E5ECF6\", \"gridcolor\": \"white\", \"gridwidth\": 2, \"linecolor\": \"white\", \"showbackground\": true, \"ticks\": \"\", \"zerolinecolor\": \"white\"}, \"yaxis\": {\"backgroundcolor\": \"#E5ECF6\", \"gridcolor\": \"white\", \"gridwidth\": 2, \"linecolor\": \"white\", \"showbackground\": true, \"ticks\": \"\", \"zerolinecolor\": \"white\"}, \"zaxis\": {\"backgroundcolor\": \"#E5ECF6\", \"gridcolor\": \"white\", \"gridwidth\": 2, \"linecolor\": \"white\", \"showbackground\": true, \"ticks\": \"\", \"zerolinecolor\": \"white\"}}, \"shapedefaults\": {\"line\": {\"color\": \"#2a3f5f\"}}, \"ternary\": {\"aaxis\": {\"gridcolor\": \"white\", \"linecolor\": \"white\", \"ticks\": \"\"}, \"baxis\": {\"gridcolor\": \"white\", \"linecolor\": \"white\", \"ticks\": \"\"}, \"bgcolor\": \"#E5ECF6\", \"caxis\": {\"gridcolor\": \"white\", \"linecolor\": \"white\", \"ticks\": \"\"}}, \"title\": {\"x\": 0.05}, \"xaxis\": {\"automargin\": true, \"gridcolor\": \"white\", \"linecolor\": \"white\", \"ticks\": \"\", \"zerolinecolor\": \"white\", \"zerolinewidth\": 2}, \"yaxis\": {\"automargin\": true, \"gridcolor\": \"white\", \"linecolor\": \"white\", \"ticks\": \"\", \"zerolinecolor\": \"white\", \"zerolinewidth\": 2}}}, \"title\": {\"text\": \"K Means Count\"}},\n",
       "                        {\"responsive\": true}\n",
       "                    ).then(function(){\n",
       "                            \n",
       "var gd = document.getElementById('e25ad7fd-9602-4d7c-aecf-7bd147a481eb');\n",
       "var x = new MutationObserver(function (mutations, observer) {{\n",
       "        var display = window.getComputedStyle(gd).display;\n",
       "        if (!display || display === 'none') {{\n",
       "            console.log([gd, 'removed!']);\n",
       "            Plotly.purge(gd);\n",
       "            observer.disconnect();\n",
       "        }}\n",
       "}});\n",
       "\n",
       "// Listen for the removal of the full notebook cells\n",
       "var notebookContainer = gd.closest('#notebook-container');\n",
       "if (notebookContainer) {{\n",
       "    x.observe(notebookContainer, {childList: true});\n",
       "}}\n",
       "\n",
       "// Listen for the clearing of the current output cell\n",
       "var outputEl = gd.closest('.output');\n",
       "if (outputEl) {{\n",
       "    x.observe(outputEl, {childList: true});\n",
       "}}\n",
       "\n",
       "                        })\n",
       "                };\n",
       "                });\n",
       "            </script>\n",
       "        </div>"
      ]
     },
     "metadata": {},
     "output_type": "display_data"
    }
   ],
   "source": [
    "from plotly.offline import plot\n",
    "\n",
    "import pandas as pd\n",
    "\n",
    "\n",
    "\n",
    "p = predictions.groupby('prediction').count()\n",
    "q = p.toPandas() \n",
    "\n",
    "\n",
    "import plotly.graph_objects as go\n",
    "fig = go.Figure(\n",
    "    data=[go.Bar(x=q['prediction'],y=q['count'])],\n",
    "    layout_title_text=\"K Means Count\"\n",
    ")\n",
    "fig.show()"
   ]
  },
  {
   "cell_type": "code",
   "execution_count": 37,
   "metadata": {},
   "outputs": [
    {
     "data": {
      "text/html": [
       "<div>\n",
       "<style scoped>\n",
       "    .dataframe tbody tr th:only-of-type {\n",
       "        vertical-align: middle;\n",
       "    }\n",
       "\n",
       "    .dataframe tbody tr th {\n",
       "        vertical-align: top;\n",
       "    }\n",
       "\n",
       "    .dataframe thead th {\n",
       "        text-align: right;\n",
       "    }\n",
       "</style>\n",
       "<table border=\"1\" class=\"dataframe\">\n",
       "  <thead>\n",
       "    <tr style=\"text-align: right;\">\n",
       "      <th></th>\n",
       "      <th>prediction</th>\n",
       "      <th>count</th>\n",
       "    </tr>\n",
       "  </thead>\n",
       "  <tbody>\n",
       "    <tr>\n",
       "      <th>0</th>\n",
       "      <td>1</td>\n",
       "      <td>40303</td>\n",
       "    </tr>\n",
       "    <tr>\n",
       "      <th>1</th>\n",
       "      <td>6</td>\n",
       "      <td>17685</td>\n",
       "    </tr>\n",
       "    <tr>\n",
       "      <th>2</th>\n",
       "      <td>3</td>\n",
       "      <td>6321</td>\n",
       "    </tr>\n",
       "    <tr>\n",
       "      <th>3</th>\n",
       "      <td>5</td>\n",
       "      <td>3197</td>\n",
       "    </tr>\n",
       "    <tr>\n",
       "      <th>4</th>\n",
       "      <td>4</td>\n",
       "      <td>12807</td>\n",
       "    </tr>\n",
       "    <tr>\n",
       "      <th>5</th>\n",
       "      <td>2</td>\n",
       "      <td>171</td>\n",
       "    </tr>\n",
       "    <tr>\n",
       "      <th>6</th>\n",
       "      <td>0</td>\n",
       "      <td>19516</td>\n",
       "    </tr>\n",
       "  </tbody>\n",
       "</table>\n",
       "</div>"
      ],
      "text/plain": [
       "   prediction  count\n",
       "0           1  40303\n",
       "1           6  17685\n",
       "2           3   6321\n",
       "3           5   3197\n",
       "4           4  12807\n",
       "5           2    171\n",
       "6           0  19516"
      ]
     },
     "execution_count": 37,
     "metadata": {},
     "output_type": "execute_result"
    }
   ],
   "source": [
    " \n",
    "q\n",
    "\n",
    " \n",
    " "
   ]
  },
  {
   "cell_type": "code",
   "execution_count": null,
   "metadata": {},
   "outputs": [],
   "source": []
  },
  {
   "cell_type": "code",
   "execution_count": 38,
   "metadata": {},
   "outputs": [],
   "source": [
    " suspect = predictions.filter(\"prediction == 2\")\n",
    " \n",
    " "
   ]
  },
  {
   "cell_type": "code",
   "execution_count": 42,
   "metadata": {},
   "outputs": [],
   "source": [
    "x = suspect.select('ts','uid','origh','resph').toPandas() \n",
    "\n"
   ]
  },
  {
   "cell_type": "code",
   "execution_count": 43,
   "metadata": {},
   "outputs": [
    {
     "data": {
      "text/html": [
       "<div>\n",
       "<style scoped>\n",
       "    .dataframe tbody tr th:only-of-type {\n",
       "        vertical-align: middle;\n",
       "    }\n",
       "\n",
       "    .dataframe tbody tr th {\n",
       "        vertical-align: top;\n",
       "    }\n",
       "\n",
       "    .dataframe thead th {\n",
       "        text-align: right;\n",
       "    }\n",
       "</style>\n",
       "<table border=\"1\" class=\"dataframe\">\n",
       "  <thead>\n",
       "    <tr style=\"text-align: right;\">\n",
       "      <th></th>\n",
       "      <th>ts</th>\n",
       "      <th>uid</th>\n",
       "      <th>origh</th>\n",
       "      <th>resph</th>\n",
       "    </tr>\n",
       "  </thead>\n",
       "  <tbody>\n",
       "    <tr>\n",
       "      <th>0</th>\n",
       "      <td>1332016597.410000</td>\n",
       "      <td>CmZcN8jNeZKMZDT7</td>\n",
       "      <td>fe80::216:47ff:fe9d:f2c6</td>\n",
       "      <td>ff02::1</td>\n",
       "    </tr>\n",
       "    <tr>\n",
       "      <th>1</th>\n",
       "      <td>1332016531.870000</td>\n",
       "      <td>C4D90720LAlhxtEYh4</td>\n",
       "      <td>192.168.204.1</td>\n",
       "      <td>192.168.204.57</td>\n",
       "    </tr>\n",
       "    <tr>\n",
       "      <th>2</th>\n",
       "      <td>1332016611.240000</td>\n",
       "      <td>CbeFYr43ZvrnMRmese</td>\n",
       "      <td>fe80::216:47ff:fe9d:f2c4</td>\n",
       "      <td>ff02::1</td>\n",
       "    </tr>\n",
       "    <tr>\n",
       "      <th>3</th>\n",
       "      <td>1332016614.490000</td>\n",
       "      <td>Cq7Eix3vot0Uvll2jb</td>\n",
       "      <td>192.168.202.1</td>\n",
       "      <td>192.168.202.81</td>\n",
       "    </tr>\n",
       "    <tr>\n",
       "      <th>4</th>\n",
       "      <td>1332016617.040000</td>\n",
       "      <td>Cm7oZnWokMdxTovJ6</td>\n",
       "      <td>fe80::216:47ff:fe9d:f2c3</td>\n",
       "      <td>ff02::1</td>\n",
       "    </tr>\n",
       "    <tr>\n",
       "      <th>5</th>\n",
       "      <td>1332016638.250000</td>\n",
       "      <td>CO69a21Q8ofevEiez8</td>\n",
       "      <td>fe80::216:47ff:fe9d:f2c8</td>\n",
       "      <td>ff02::1</td>\n",
       "    </tr>\n",
       "    <tr>\n",
       "      <th>6</th>\n",
       "      <td>1332016651.850000</td>\n",
       "      <td>C4lMSQ1lo9AUpyEqp3</td>\n",
       "      <td>fe80::216:47ff:fe9d:f2d5</td>\n",
       "      <td>ff02::1</td>\n",
       "    </tr>\n",
       "    <tr>\n",
       "      <th>7</th>\n",
       "      <td>1332016653.960000</td>\n",
       "      <td>CEaig24DTLOU25hrH4</td>\n",
       "      <td>fe80::216:47ff:fe9d:f2d6</td>\n",
       "      <td>ff02::1</td>\n",
       "    </tr>\n",
       "    <tr>\n",
       "      <th>8</th>\n",
       "      <td>1332016656.870000</td>\n",
       "      <td>C9qyMu1jzGCcfmBPD1</td>\n",
       "      <td>192.168.202.1</td>\n",
       "      <td>192.168.202.62</td>\n",
       "    </tr>\n",
       "    <tr>\n",
       "      <th>9</th>\n",
       "      <td>1332016664.130000</td>\n",
       "      <td>CxrpXirJ1SduvlIug</td>\n",
       "      <td>fe80::216:47ff:fe9d:f2c2</td>\n",
       "      <td>fe80::5e26:aff:fe11:4a0d</td>\n",
       "    </tr>\n",
       "    <tr>\n",
       "      <th>10</th>\n",
       "      <td>1332016666.130000</td>\n",
       "      <td>C2WHSt19zdmHiogWZ</td>\n",
       "      <td>fe80::216:47ff:fe9d:f2c2</td>\n",
       "      <td>fe80::21e:68ff:febd:38ee</td>\n",
       "    </tr>\n",
       "    <tr>\n",
       "      <th>11</th>\n",
       "      <td>1332016669.150000</td>\n",
       "      <td>CPJE6r1eLhswg4tSO1</td>\n",
       "      <td>fe80::216:47ff:fe9d:f2c2</td>\n",
       "      <td>2001:dbb:c18:202:20c:29ff:fe41:4be7</td>\n",
       "    </tr>\n",
       "    <tr>\n",
       "      <th>12</th>\n",
       "      <td>1332016672.170000</td>\n",
       "      <td>CtPexF1jMbi2RUTmff</td>\n",
       "      <td>fe80::216:47ff:fe9d:f2c2</td>\n",
       "      <td>fe80::65ca:c6cd:7ae0:ac8c</td>\n",
       "    </tr>\n",
       "    <tr>\n",
       "      <th>13</th>\n",
       "      <td>1332016672.170000</td>\n",
       "      <td>C3N4Yd1wjoMcE3YC2</td>\n",
       "      <td>fe80::216:47ff:fe9d:f2c2</td>\n",
       "      <td>fe80::65ca:c6cd:7ae0:ac8c</td>\n",
       "    </tr>\n",
       "    <tr>\n",
       "      <th>14</th>\n",
       "      <td>1332016672.170000</td>\n",
       "      <td>CvtLRQQa594TTxO6a</td>\n",
       "      <td>fe80::65ca:c6cd:7ae0:ac8c</td>\n",
       "      <td>ff02::1:ff9d:f2c2</td>\n",
       "    </tr>\n",
       "    <tr>\n",
       "      <th>15</th>\n",
       "      <td>1332016672.760000</td>\n",
       "      <td>CEdIyC2TZdeaSc7wei</td>\n",
       "      <td>fe80::216:47ff:fe9d:f2c7</td>\n",
       "      <td>ff02::1</td>\n",
       "    </tr>\n",
       "    <tr>\n",
       "      <th>16</th>\n",
       "      <td>1332016671.170000</td>\n",
       "      <td>Cwtb9v5pZfXIPJlv5</td>\n",
       "      <td>fe80::216:47ff:fe9d:f2c2</td>\n",
       "      <td>fe80::ca60:ff:fe1a:aa77</td>\n",
       "    </tr>\n",
       "    <tr>\n",
       "      <th>17</th>\n",
       "      <td>1332016674.170000</td>\n",
       "      <td>CD1Jzi4JB7FY7PkbR</td>\n",
       "      <td>fe80::20c:29ff:fe41:4be7</td>\n",
       "      <td>fe80::216:47ff:fe9d:f2c2</td>\n",
       "    </tr>\n",
       "    <tr>\n",
       "      <th>18</th>\n",
       "      <td>1332016670.170000</td>\n",
       "      <td>CJTD7I1myz4MTmtKkg</td>\n",
       "      <td>fe80::216:47ff:fe9d:f2c2</td>\n",
       "      <td>fe80::ca60:ff:fe1a:aa73</td>\n",
       "    </tr>\n",
       "    <tr>\n",
       "      <th>19</th>\n",
       "      <td>1332016673.180000</td>\n",
       "      <td>CUkyvA4AGccGSmtzB3</td>\n",
       "      <td>fe80::216:47ff:fe9d:f2c2</td>\n",
       "      <td>fe80::2c0:caff:fe5f:6869</td>\n",
       "    </tr>\n",
       "    <tr>\n",
       "      <th>20</th>\n",
       "      <td>1332016675.200000</td>\n",
       "      <td>CTIvF425nMToahAeod</td>\n",
       "      <td>fe80::216:47ff:fe9d:f2c2</td>\n",
       "      <td>fe80::20c:29ff:fe4d:eb9e</td>\n",
       "    </tr>\n",
       "    <tr>\n",
       "      <th>21</th>\n",
       "      <td>1332016674.190000</td>\n",
       "      <td>C6YMkIj9EccEvJqFa</td>\n",
       "      <td>fe80::216:47ff:fe9d:f2c2</td>\n",
       "      <td>fe80::a800:4ff:fe00:a04</td>\n",
       "    </tr>\n",
       "    <tr>\n",
       "      <th>22</th>\n",
       "      <td>1332016676.200000</td>\n",
       "      <td>Cvv5tpxusbYF79yC6</td>\n",
       "      <td>fe80::216:47ff:fe9d:f2c2</td>\n",
       "      <td>fe80::20c:29ff:fe41:4be7</td>\n",
       "    </tr>\n",
       "    <tr>\n",
       "      <th>23</th>\n",
       "      <td>1332016678.220000</td>\n",
       "      <td>C16JeI2pAlNPlGyTNh</td>\n",
       "      <td>fe80::216:47ff:fe9d:f2c2</td>\n",
       "      <td>fe80::3e07:54ff:fe1c:a665</td>\n",
       "    </tr>\n",
       "    <tr>\n",
       "      <th>24</th>\n",
       "      <td>1332016677.210000</td>\n",
       "      <td>C1vZe72I76YNoheG9d</td>\n",
       "      <td>fe80::216:47ff:fe9d:f2c2</td>\n",
       "      <td>fe80::c62c:3ff:fe37:efc</td>\n",
       "    </tr>\n",
       "    <tr>\n",
       "      <th>25</th>\n",
       "      <td>1332016680.210000</td>\n",
       "      <td>CJrXbt6zfqyobKtK5</td>\n",
       "      <td>fe80::20c:29ff:fe4d:eb9e</td>\n",
       "      <td>fe80::216:47ff:fe9d:f2c2</td>\n",
       "    </tr>\n",
       "    <tr>\n",
       "      <th>26</th>\n",
       "      <td>1332016680.460000</td>\n",
       "      <td>CVZPL92ukxVCSGpGbe</td>\n",
       "      <td>192.168.202.1</td>\n",
       "      <td>192.168.202.81</td>\n",
       "    </tr>\n",
       "    <tr>\n",
       "      <th>27</th>\n",
       "      <td>1332016681.840000</td>\n",
       "      <td>C8P6Cg1I6uFJO9w5C2</td>\n",
       "      <td>192.168.204.1</td>\n",
       "      <td>192.168.204.57</td>\n",
       "    </tr>\n",
       "    <tr>\n",
       "      <th>28</th>\n",
       "      <td>1332016682.230000</td>\n",
       "      <td>CSVY4TIC1uLCAlYai</td>\n",
       "      <td>fe80::3e07:54ff:fe1c:a665</td>\n",
       "      <td>fe80::216:47ff:fe9d:f2c2</td>\n",
       "    </tr>\n",
       "    <tr>\n",
       "      <th>29</th>\n",
       "      <td>1332016680.220000</td>\n",
       "      <td>C1ApFY1XRbh7MLfa04</td>\n",
       "      <td>fe80::216:47ff:fe9d:f2c2</td>\n",
       "      <td>fe80::baac:6fff:fe63:ef0</td>\n",
       "    </tr>\n",
       "    <tr>\n",
       "      <th>...</th>\n",
       "      <td>...</td>\n",
       "      <td>...</td>\n",
       "      <td>...</td>\n",
       "      <td>...</td>\n",
       "    </tr>\n",
       "    <tr>\n",
       "      <th>141</th>\n",
       "      <td>1332017680.680000</td>\n",
       "      <td>CSUp2U2x6lvX2zGdTi</td>\n",
       "      <td>fe80::216:47ff:fe9d:f2c8</td>\n",
       "      <td>ff02::1</td>\n",
       "    </tr>\n",
       "    <tr>\n",
       "      <th>142</th>\n",
       "      <td>1332017683.410000</td>\n",
       "      <td>CNLsxTxEt39zXxpP9</td>\n",
       "      <td>fe80::216:47ff:fe9d:f2c7</td>\n",
       "      <td>ff02::1</td>\n",
       "    </tr>\n",
       "    <tr>\n",
       "      <th>143</th>\n",
       "      <td>1332017684.180000</td>\n",
       "      <td>C99d5H1j8G0ua1akF</td>\n",
       "      <td>fe80::216:47ff:fe9d:f2c3</td>\n",
       "      <td>ff02::1</td>\n",
       "    </tr>\n",
       "    <tr>\n",
       "      <th>144</th>\n",
       "      <td>1332017692.920000</td>\n",
       "      <td>CZM1x6262SX3Nvjx94</td>\n",
       "      <td>fe80::216:47ff:fe9d:f2d5</td>\n",
       "      <td>ff02::1</td>\n",
       "    </tr>\n",
       "    <tr>\n",
       "      <th>145</th>\n",
       "      <td>1332017704.030000</td>\n",
       "      <td>CwHLUs4ZR3BAujZRte</td>\n",
       "      <td>192.168.202.1</td>\n",
       "      <td>192.168.202.81</td>\n",
       "    </tr>\n",
       "    <tr>\n",
       "      <th>146</th>\n",
       "      <td>1332017715.440000</td>\n",
       "      <td>CYTL8z28bZyac2nAui</td>\n",
       "      <td>fe80::216:47ff:fe9d:f2d4</td>\n",
       "      <td>ff02::1</td>\n",
       "    </tr>\n",
       "    <tr>\n",
       "      <th>147</th>\n",
       "      <td>1332017725.410000</td>\n",
       "      <td>CGjLEz2uaLJaUTy6M8</td>\n",
       "      <td>fe80::216:47ff:fe9d:f2d6</td>\n",
       "      <td>ff02::1</td>\n",
       "    </tr>\n",
       "    <tr>\n",
       "      <th>148</th>\n",
       "      <td>1332017731.640000</td>\n",
       "      <td>Coe4512cnsPW42rinb</td>\n",
       "      <td>192.168.204.1</td>\n",
       "      <td>192.168.204.57</td>\n",
       "    </tr>\n",
       "    <tr>\n",
       "      <th>149</th>\n",
       "      <td>1332017742.410000</td>\n",
       "      <td>CqwL8N1siMcwVv4k25</td>\n",
       "      <td>192.168.202.1</td>\n",
       "      <td>192.168.202.88</td>\n",
       "    </tr>\n",
       "    <tr>\n",
       "      <th>150</th>\n",
       "      <td>1332017765.450000</td>\n",
       "      <td>CYH3PS2bTdRecrAY0h</td>\n",
       "      <td>fe80::216:47ff:fe9d:f2c2</td>\n",
       "      <td>ff02::1</td>\n",
       "    </tr>\n",
       "    <tr>\n",
       "      <th>151</th>\n",
       "      <td>1332017770.010000</td>\n",
       "      <td>CQUq8r4A0jYZV8nbwe</td>\n",
       "      <td>192.168.202.1</td>\n",
       "      <td>192.168.202.81</td>\n",
       "    </tr>\n",
       "    <tr>\n",
       "      <th>152</th>\n",
       "      <td>1332017800.100000</td>\n",
       "      <td>C2lFBs4j0qcTxZulcf</td>\n",
       "      <td>fe80::216:47ff:fe9d:f2c6</td>\n",
       "      <td>ff02::1</td>\n",
       "    </tr>\n",
       "    <tr>\n",
       "      <th>153</th>\n",
       "      <td>1332017810.030000</td>\n",
       "      <td>CIwGe61FRGdZdEwQqi</td>\n",
       "      <td>fe80::216:47ff:fe9d:f2c5</td>\n",
       "      <td>ff02::1</td>\n",
       "    </tr>\n",
       "    <tr>\n",
       "      <th>154</th>\n",
       "      <td>1332017815.210000</td>\n",
       "      <td>C1xQjbPcS7qMCnQ9k</td>\n",
       "      <td>fe80::216:47ff:fe9d:f2c1</td>\n",
       "      <td>ff02::1</td>\n",
       "    </tr>\n",
       "    <tr>\n",
       "      <th>155</th>\n",
       "      <td>1332017834.990000</td>\n",
       "      <td>Clkdsb4tAIpc3OoXsg</td>\n",
       "      <td>192.168.202.1</td>\n",
       "      <td>192.168.202.81</td>\n",
       "    </tr>\n",
       "    <tr>\n",
       "      <th>156</th>\n",
       "      <td>1332017835.790000</td>\n",
       "      <td>CrZ3Pn2TALhxHxbKFi</td>\n",
       "      <td>fe80::216:47ff:fe9d:f2c3</td>\n",
       "      <td>ff02::1</td>\n",
       "    </tr>\n",
       "    <tr>\n",
       "      <th>157</th>\n",
       "      <td>1332017836.860000</td>\n",
       "      <td>CYzxDf3Efv8TsbV5ak</td>\n",
       "      <td>192.168.202.1</td>\n",
       "      <td>192.168.202.62</td>\n",
       "    </tr>\n",
       "    <tr>\n",
       "      <th>158</th>\n",
       "      <td>1332017849.030000</td>\n",
       "      <td>CTXVgq2vjaswKVYv9j</td>\n",
       "      <td>fe80::216:47ff:fe9d:f2c7</td>\n",
       "      <td>ff02::1</td>\n",
       "    </tr>\n",
       "    <tr>\n",
       "      <th>159</th>\n",
       "      <td>1332017854.840000</td>\n",
       "      <td>CPB8t51DsUYQ1InIf8</td>\n",
       "      <td>fe80::216:47ff:fe9d:f2c4</td>\n",
       "      <td>ff02::1</td>\n",
       "    </tr>\n",
       "    <tr>\n",
       "      <th>160</th>\n",
       "      <td>1332017876.910000</td>\n",
       "      <td>CuXanFoEas9iqzI6h</td>\n",
       "      <td>fe80::216:47ff:fe9d:f2d5</td>\n",
       "      <td>ff02::1</td>\n",
       "    </tr>\n",
       "    <tr>\n",
       "      <th>161</th>\n",
       "      <td>1332017877.180000</td>\n",
       "      <td>CXgFlh4QfOdMYb6Hmf</td>\n",
       "      <td>fe80::216:47ff:fe9d:f2c8</td>\n",
       "      <td>ff02::1</td>\n",
       "    </tr>\n",
       "    <tr>\n",
       "      <th>162</th>\n",
       "      <td>1332017881.630000</td>\n",
       "      <td>CP2F4s1nYDjBzBIP5</td>\n",
       "      <td>192.168.204.1</td>\n",
       "      <td>192.168.204.57</td>\n",
       "    </tr>\n",
       "    <tr>\n",
       "      <th>163</th>\n",
       "      <td>1332017890.230000</td>\n",
       "      <td>CCjPGZ2A9nTYNHihkj</td>\n",
       "      <td>fe80::216:47ff:fe9d:f2d6</td>\n",
       "      <td>ff02::1</td>\n",
       "    </tr>\n",
       "    <tr>\n",
       "      <th>164</th>\n",
       "      <td>1332017892.560000</td>\n",
       "      <td>Cfjrww4xDkvhNMLwNe</td>\n",
       "      <td>fe80::216:47ff:fe9d:f2d4</td>\n",
       "      <td>ff02::1</td>\n",
       "    </tr>\n",
       "    <tr>\n",
       "      <th>165</th>\n",
       "      <td>1332017898.970000</td>\n",
       "      <td>CyPYchcq9ZmMWtPgk</td>\n",
       "      <td>192.168.202.1</td>\n",
       "      <td>192.168.202.81</td>\n",
       "    </tr>\n",
       "    <tr>\n",
       "      <th>166</th>\n",
       "      <td>1332017917.460000</td>\n",
       "      <td>CckLk63ytCnrLYmXfk</td>\n",
       "      <td>fe80::216:47ff:fe9d:f2c2</td>\n",
       "      <td>ff02::1</td>\n",
       "    </tr>\n",
       "    <tr>\n",
       "      <th>167</th>\n",
       "      <td>1332017411.340000</td>\n",
       "      <td>CTVUjMq7MGVWOWltl</td>\n",
       "      <td>192.168.202.1</td>\n",
       "      <td>192.168.202.80</td>\n",
       "    </tr>\n",
       "    <tr>\n",
       "      <th>168</th>\n",
       "      <td>1332017988.140000</td>\n",
       "      <td>C9Jk4C4VBA5gIKWQUf</td>\n",
       "      <td>fe80::216:47ff:fe9d:f2c6</td>\n",
       "      <td>ff02::1</td>\n",
       "    </tr>\n",
       "    <tr>\n",
       "      <th>169</th>\n",
       "      <td>1332017943.400000</td>\n",
       "      <td>C0IzMU2MzAv9Ge14Q6</td>\n",
       "      <td>192.168.202.136</td>\n",
       "      <td>192.168.21.25</td>\n",
       "    </tr>\n",
       "    <tr>\n",
       "      <th>170</th>\n",
       "      <td>1332017983.030000</td>\n",
       "      <td>CuAHXC4RBAIXO1khkg</td>\n",
       "      <td>fe80::216:47ff:fe9d:f2c1</td>\n",
       "      <td>ff02::1</td>\n",
       "    </tr>\n",
       "  </tbody>\n",
       "</table>\n",
       "<p>171 rows × 4 columns</p>\n",
       "</div>"
      ],
      "text/plain": [
       "                    ts                 uid                      origh  \\\n",
       "0    1332016597.410000    CmZcN8jNeZKMZDT7   fe80::216:47ff:fe9d:f2c6   \n",
       "1    1332016531.870000  C4D90720LAlhxtEYh4              192.168.204.1   \n",
       "2    1332016611.240000  CbeFYr43ZvrnMRmese   fe80::216:47ff:fe9d:f2c4   \n",
       "3    1332016614.490000  Cq7Eix3vot0Uvll2jb              192.168.202.1   \n",
       "4    1332016617.040000   Cm7oZnWokMdxTovJ6   fe80::216:47ff:fe9d:f2c3   \n",
       "5    1332016638.250000  CO69a21Q8ofevEiez8   fe80::216:47ff:fe9d:f2c8   \n",
       "6    1332016651.850000  C4lMSQ1lo9AUpyEqp3   fe80::216:47ff:fe9d:f2d5   \n",
       "7    1332016653.960000  CEaig24DTLOU25hrH4   fe80::216:47ff:fe9d:f2d6   \n",
       "8    1332016656.870000  C9qyMu1jzGCcfmBPD1              192.168.202.1   \n",
       "9    1332016664.130000   CxrpXirJ1SduvlIug   fe80::216:47ff:fe9d:f2c2   \n",
       "10   1332016666.130000   C2WHSt19zdmHiogWZ   fe80::216:47ff:fe9d:f2c2   \n",
       "11   1332016669.150000  CPJE6r1eLhswg4tSO1   fe80::216:47ff:fe9d:f2c2   \n",
       "12   1332016672.170000  CtPexF1jMbi2RUTmff   fe80::216:47ff:fe9d:f2c2   \n",
       "13   1332016672.170000   C3N4Yd1wjoMcE3YC2   fe80::216:47ff:fe9d:f2c2   \n",
       "14   1332016672.170000   CvtLRQQa594TTxO6a  fe80::65ca:c6cd:7ae0:ac8c   \n",
       "15   1332016672.760000  CEdIyC2TZdeaSc7wei   fe80::216:47ff:fe9d:f2c7   \n",
       "16   1332016671.170000   Cwtb9v5pZfXIPJlv5   fe80::216:47ff:fe9d:f2c2   \n",
       "17   1332016674.170000   CD1Jzi4JB7FY7PkbR   fe80::20c:29ff:fe41:4be7   \n",
       "18   1332016670.170000  CJTD7I1myz4MTmtKkg   fe80::216:47ff:fe9d:f2c2   \n",
       "19   1332016673.180000  CUkyvA4AGccGSmtzB3   fe80::216:47ff:fe9d:f2c2   \n",
       "20   1332016675.200000  CTIvF425nMToahAeod   fe80::216:47ff:fe9d:f2c2   \n",
       "21   1332016674.190000   C6YMkIj9EccEvJqFa   fe80::216:47ff:fe9d:f2c2   \n",
       "22   1332016676.200000   Cvv5tpxusbYF79yC6   fe80::216:47ff:fe9d:f2c2   \n",
       "23   1332016678.220000  C16JeI2pAlNPlGyTNh   fe80::216:47ff:fe9d:f2c2   \n",
       "24   1332016677.210000  C1vZe72I76YNoheG9d   fe80::216:47ff:fe9d:f2c2   \n",
       "25   1332016680.210000   CJrXbt6zfqyobKtK5   fe80::20c:29ff:fe4d:eb9e   \n",
       "26   1332016680.460000  CVZPL92ukxVCSGpGbe              192.168.202.1   \n",
       "27   1332016681.840000  C8P6Cg1I6uFJO9w5C2              192.168.204.1   \n",
       "28   1332016682.230000   CSVY4TIC1uLCAlYai  fe80::3e07:54ff:fe1c:a665   \n",
       "29   1332016680.220000  C1ApFY1XRbh7MLfa04   fe80::216:47ff:fe9d:f2c2   \n",
       "..                 ...                 ...                        ...   \n",
       "141  1332017680.680000  CSUp2U2x6lvX2zGdTi   fe80::216:47ff:fe9d:f2c8   \n",
       "142  1332017683.410000   CNLsxTxEt39zXxpP9   fe80::216:47ff:fe9d:f2c7   \n",
       "143  1332017684.180000   C99d5H1j8G0ua1akF   fe80::216:47ff:fe9d:f2c3   \n",
       "144  1332017692.920000  CZM1x6262SX3Nvjx94   fe80::216:47ff:fe9d:f2d5   \n",
       "145  1332017704.030000  CwHLUs4ZR3BAujZRte              192.168.202.1   \n",
       "146  1332017715.440000  CYTL8z28bZyac2nAui   fe80::216:47ff:fe9d:f2d4   \n",
       "147  1332017725.410000  CGjLEz2uaLJaUTy6M8   fe80::216:47ff:fe9d:f2d6   \n",
       "148  1332017731.640000  Coe4512cnsPW42rinb              192.168.204.1   \n",
       "149  1332017742.410000  CqwL8N1siMcwVv4k25              192.168.202.1   \n",
       "150  1332017765.450000  CYH3PS2bTdRecrAY0h   fe80::216:47ff:fe9d:f2c2   \n",
       "151  1332017770.010000  CQUq8r4A0jYZV8nbwe              192.168.202.1   \n",
       "152  1332017800.100000  C2lFBs4j0qcTxZulcf   fe80::216:47ff:fe9d:f2c6   \n",
       "153  1332017810.030000  CIwGe61FRGdZdEwQqi   fe80::216:47ff:fe9d:f2c5   \n",
       "154  1332017815.210000   C1xQjbPcS7qMCnQ9k   fe80::216:47ff:fe9d:f2c1   \n",
       "155  1332017834.990000  Clkdsb4tAIpc3OoXsg              192.168.202.1   \n",
       "156  1332017835.790000  CrZ3Pn2TALhxHxbKFi   fe80::216:47ff:fe9d:f2c3   \n",
       "157  1332017836.860000  CYzxDf3Efv8TsbV5ak              192.168.202.1   \n",
       "158  1332017849.030000  CTXVgq2vjaswKVYv9j   fe80::216:47ff:fe9d:f2c7   \n",
       "159  1332017854.840000  CPB8t51DsUYQ1InIf8   fe80::216:47ff:fe9d:f2c4   \n",
       "160  1332017876.910000   CuXanFoEas9iqzI6h   fe80::216:47ff:fe9d:f2d5   \n",
       "161  1332017877.180000  CXgFlh4QfOdMYb6Hmf   fe80::216:47ff:fe9d:f2c8   \n",
       "162  1332017881.630000   CP2F4s1nYDjBzBIP5              192.168.204.1   \n",
       "163  1332017890.230000  CCjPGZ2A9nTYNHihkj   fe80::216:47ff:fe9d:f2d6   \n",
       "164  1332017892.560000  Cfjrww4xDkvhNMLwNe   fe80::216:47ff:fe9d:f2d4   \n",
       "165  1332017898.970000   CyPYchcq9ZmMWtPgk              192.168.202.1   \n",
       "166  1332017917.460000  CckLk63ytCnrLYmXfk   fe80::216:47ff:fe9d:f2c2   \n",
       "167  1332017411.340000   CTVUjMq7MGVWOWltl              192.168.202.1   \n",
       "168  1332017988.140000  C9Jk4C4VBA5gIKWQUf   fe80::216:47ff:fe9d:f2c6   \n",
       "169  1332017943.400000  C0IzMU2MzAv9Ge14Q6            192.168.202.136   \n",
       "170  1332017983.030000  CuAHXC4RBAIXO1khkg   fe80::216:47ff:fe9d:f2c1   \n",
       "\n",
       "                                   resph  \n",
       "0                                ff02::1  \n",
       "1                         192.168.204.57  \n",
       "2                                ff02::1  \n",
       "3                         192.168.202.81  \n",
       "4                                ff02::1  \n",
       "5                                ff02::1  \n",
       "6                                ff02::1  \n",
       "7                                ff02::1  \n",
       "8                         192.168.202.62  \n",
       "9               fe80::5e26:aff:fe11:4a0d  \n",
       "10              fe80::21e:68ff:febd:38ee  \n",
       "11   2001:dbb:c18:202:20c:29ff:fe41:4be7  \n",
       "12             fe80::65ca:c6cd:7ae0:ac8c  \n",
       "13             fe80::65ca:c6cd:7ae0:ac8c  \n",
       "14                     ff02::1:ff9d:f2c2  \n",
       "15                               ff02::1  \n",
       "16               fe80::ca60:ff:fe1a:aa77  \n",
       "17              fe80::216:47ff:fe9d:f2c2  \n",
       "18               fe80::ca60:ff:fe1a:aa73  \n",
       "19              fe80::2c0:caff:fe5f:6869  \n",
       "20              fe80::20c:29ff:fe4d:eb9e  \n",
       "21               fe80::a800:4ff:fe00:a04  \n",
       "22              fe80::20c:29ff:fe41:4be7  \n",
       "23             fe80::3e07:54ff:fe1c:a665  \n",
       "24               fe80::c62c:3ff:fe37:efc  \n",
       "25              fe80::216:47ff:fe9d:f2c2  \n",
       "26                        192.168.202.81  \n",
       "27                        192.168.204.57  \n",
       "28              fe80::216:47ff:fe9d:f2c2  \n",
       "29              fe80::baac:6fff:fe63:ef0  \n",
       "..                                   ...  \n",
       "141                              ff02::1  \n",
       "142                              ff02::1  \n",
       "143                              ff02::1  \n",
       "144                              ff02::1  \n",
       "145                       192.168.202.81  \n",
       "146                              ff02::1  \n",
       "147                              ff02::1  \n",
       "148                       192.168.204.57  \n",
       "149                       192.168.202.88  \n",
       "150                              ff02::1  \n",
       "151                       192.168.202.81  \n",
       "152                              ff02::1  \n",
       "153                              ff02::1  \n",
       "154                              ff02::1  \n",
       "155                       192.168.202.81  \n",
       "156                              ff02::1  \n",
       "157                       192.168.202.62  \n",
       "158                              ff02::1  \n",
       "159                              ff02::1  \n",
       "160                              ff02::1  \n",
       "161                              ff02::1  \n",
       "162                       192.168.204.57  \n",
       "163                              ff02::1  \n",
       "164                              ff02::1  \n",
       "165                       192.168.202.81  \n",
       "166                              ff02::1  \n",
       "167                       192.168.202.80  \n",
       "168                              ff02::1  \n",
       "169                        192.168.21.25  \n",
       "170                              ff02::1  \n",
       "\n",
       "[171 rows x 4 columns]"
      ]
     },
     "execution_count": 43,
     "metadata": {},
     "output_type": "execute_result"
    }
   ],
   "source": [
    "x "
   ]
  },
  {
   "cell_type": "code",
   "execution_count": null,
   "metadata": {},
   "outputs": [],
   "source": [
    "\n"
   ]
  },
  {
   "cell_type": "code",
   "execution_count": null,
   "metadata": {},
   "outputs": [],
   "source": [
    " \n",
    "\n",
    " "
   ]
  },
  {
   "cell_type": "code",
   "execution_count": null,
   "metadata": {},
   "outputs": [],
   "source": [
    " "
   ]
  },
  {
   "cell_type": "code",
   "execution_count": null,
   "metadata": {},
   "outputs": [],
   "source": []
  },
  {
   "cell_type": "code",
   "execution_count": null,
   "metadata": {},
   "outputs": [],
   "source": [
    "\n",
    " "
   ]
  },
  {
   "cell_type": "code",
   "execution_count": null,
   "metadata": {},
   "outputs": [],
   "source": [
    " "
   ]
  },
  {
   "cell_type": "code",
   "execution_count": null,
   "metadata": {},
   "outputs": [],
   "source": [
    " "
   ]
  }
 ],
 "metadata": {
  "kernelspec": {
   "display_name": "Python 3",
   "language": "python",
   "name": "python3"
  },
  "language_info": {
   "codemirror_mode": {
    "name": "ipython",
    "version": 3
   },
   "file_extension": ".py",
   "mimetype": "text/x-python",
   "name": "python",
   "nbconvert_exporter": "python",
   "pygments_lexer": "ipython3",
   "version": "3.5.2"
  }
 },
 "nbformat": 4,
 "nbformat_minor": 2
}
