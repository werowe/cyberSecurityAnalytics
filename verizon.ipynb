{
 "cells": [
  {
   "cell_type": "code",
   "execution_count": 1,
   "metadata": {},
   "outputs": [],
   "source": [
    "from pyspark.sql.types import StructType, StructField, FloatType, BooleanType\n",
    "from pyspark.sql.types import DoubleType, IntegerType, StringType\n",
    "import pyspark\n",
    "from pyspark.ml.linalg import Vectors\n",
    "from pyspark.ml.feature import VectorAssembler\n",
    "from pyspark.sql.functions import lit\n",
    "from pyspark.sql.functions import udf\n",
    " \n",
    "from pyspark import SQLContext\n",
    " \n",
    "conf = pyspark.SparkConf() \n",
    " \n",
    "sc = pyspark.SparkContext.getOrCreate(conf=conf)\n",
    "sqlcontext = SQLContext(sc)\n",
    "\n",
    "schema = StructType([\n",
    "    StructField(\"ts\", StringType(),True),    \n",
    "    StructField(\"uid\", StringType(),True),     \n",
    "    StructField(\"origh\", StringType(),True),         \n",
    "    StructField(\"origp\", StringType(),True),     \n",
    "    StructField(\"resph\", StringType(),True),      \n",
    "    StructField(\"respp\", StringType(),True),   \n",
    "    StructField(\"proto\", StringType(),True),     \n",
    "    StructField(\"service\" , StringType(),True),        \n",
    "    StructField(\"duration\", FloatType(),True),     \n",
    "    StructField(\"origbytes\", StringType(),True),     \n",
    "    StructField(\"respbytes\", StringType(),True),       \n",
    "    StructField(\"connstate\", StringType(),True),      \n",
    "    StructField(\"localorig\", BooleanType(),True),   \n",
    "    StructField(\"missedbytes\", StringType(),True),      \n",
    "    StructField(\"history\", StringType(),True),     \n",
    "    StructField(\"origpkts\", IntegerType(),True),     \n",
    "    StructField(\"origipbytes\", IntegerType(),True),       \n",
    "    StructField(\"resppkts\", IntegerType(),True),      \n",
    "    StructField(\"respipbytes\", IntegerType(),True),     \n",
    "    StructField(\"tunnelparents\", StringType(),True)    \n",
    "              ])\n",
    "        \n",
    "\n",
    "df = sqlcontext.read.csv(path=\"/home/ubuntu/Documents/forensics/tail.log\", sep=\"\\t\", schema=schema) \n",
    "\n",
    "\n",
    "\n",
    "\n",
    "\n",
    " \n"
   ]
  },
  {
   "cell_type": "code",
   "execution_count": 4,
   "metadata": {},
   "outputs": [],
   "source": [
    "colsInt = udf(lambda z: toInt(z), IntegerType())\n",
    "spark.udf.register(\"colsInt\", colsInt)\n",
    "\n",
    "def toInt(s):\n",
    "    if isinstance(s, str) == True:\n",
    "        st = [str(ord(i)) for i in s]\n",
    "        return(int(''.join(st)))\n",
    "    else:\n",
    "         return type(s)\n",
    "\n",
    "\n",
    " "
   ]
  },
  {
   "cell_type": "code",
   "execution_count": 2,
   "metadata": {},
   "outputs": [
    {
     "data": {
      "text/plain": [
       "['ts',\n",
       " 'uid',\n",
       " 'origh',\n",
       " 'origp',\n",
       " 'resph',\n",
       " 'respp',\n",
       " 'proto',\n",
       " 'service',\n",
       " 'duration',\n",
       " 'origbytes',\n",
       " 'respbytes',\n",
       " 'connstate',\n",
       " 'localorig',\n",
       " 'missedbytes',\n",
       " 'history',\n",
       " 'origpkts',\n",
       " 'origipbytes',\n",
       " 'resppkts',\n",
       " 'respipbytes',\n",
       " 'tunnelparents']"
      ]
     },
     "execution_count": 2,
     "metadata": {},
     "output_type": "execute_result"
    }
   ],
   "source": [
    "df.columns\n",
    "    \n",
    "    "
   ]
  },
  {
   "cell_type": "code",
   "execution_count": null,
   "metadata": {},
   "outputs": [],
   "source": []
  },
  {
   "cell_type": "code",
   "execution_count": null,
   "metadata": {},
   "outputs": [],
   "source": [
    " "
   ]
  },
  {
   "cell_type": "code",
   "execution_count": 5,
   "metadata": {},
   "outputs": [],
   "source": [
    " \n",
    "\n",
    "a = df.withColumn( 'iorigp',colsInt('origp'))\n",
    "b = a.withColumn('iresph',colsInt('resph'))\n",
    "c = b.withColumn( 'irespp',colsInt('respp'))\n",
    "d = c.withColumn( 'iproto',colsInt('proto'))\n",
    "e = d.withColumn(  'iduration',colsInt( 'duration'))\n",
    "f = e.withColumn( 'iorigbytes',colsInt( 'origbytes'))\n",
    "g = f.withColumn( 'irespbytes',colsInt('respbytes'))\n",
    "h = g.withColumn(  'iorigpkts',colsInt( 'origpkts'))\n",
    "i = h.withColumn( 'iorigipbytes',colsInt('origipbytes'))\n",
    "\n",
    "columns =  [\n",
    "  'iorigp',\n",
    "    'iresph',\n",
    "    'irespp',\n",
    "    'iproto',\n",
    "    'iduration',\n",
    "    'iorigbytes',\n",
    "    'irespbytes',\n",
    "    'iorigpkts',\n",
    "    'origpkts',\n",
    "    'iorigipbytes',\n",
    "    'origipbytes'\n",
    "]\n",
    " \n",
    "\n",
    " "
   ]
  },
  {
   "cell_type": "code",
   "execution_count": 6,
   "metadata": {},
   "outputs": [],
   "source": [
    "columns =  [\n",
    "  'iorigp',\n",
    "    'iresph',\n",
    "    'irespp',\n",
    "    'iproto',\n",
    "    'iduration',\n",
    "    'iorigbytes',\n",
    "    'irespbytes',\n",
    "    'iorigpkts',\n",
    "    'origpkts',\n",
    "    'iorigipbytes',\n",
    "    'origipbytes'\n",
    "]"
   ]
  },
  {
   "cell_type": "code",
   "execution_count": null,
   "metadata": {},
   "outputs": [],
   "source": []
  },
  {
   "cell_type": "code",
   "execution_count": 7,
   "metadata": {},
   "outputs": [],
   "source": [
    "\n",
    " \n",
    "vecAssembler = VectorAssembler(inputCols=columns, outputCol=\"features\")\n",
    "router = vecAssembler.transform(i)\n",
    "\n",
    "\n",
    " \n",
    " "
   ]
  },
  {
   "cell_type": "code",
   "execution_count": 8,
   "metadata": {},
   "outputs": [
    {
     "data": {
      "text/plain": [
       "['ts',\n",
       " 'uid',\n",
       " 'origh',\n",
       " 'origp',\n",
       " 'resph',\n",
       " 'respp',\n",
       " 'proto',\n",
       " 'service',\n",
       " 'duration',\n",
       " 'origbytes',\n",
       " 'respbytes',\n",
       " 'connstate',\n",
       " 'localorig',\n",
       " 'missedbytes',\n",
       " 'history',\n",
       " 'origpkts',\n",
       " 'origipbytes',\n",
       " 'resppkts',\n",
       " 'respipbytes',\n",
       " 'tunnelparents',\n",
       " 'iorigp',\n",
       " 'iresph',\n",
       " 'irespp',\n",
       " 'iproto',\n",
       " 'iduration',\n",
       " 'iorigbytes',\n",
       " 'irespbytes',\n",
       " 'iorigpkts',\n",
       " 'iorigipbytes',\n",
       " 'features']"
      ]
     },
     "execution_count": 8,
     "metadata": {},
     "output_type": "execute_result"
    }
   ],
   "source": [
    "router.columns"
   ]
  },
  {
   "cell_type": "code",
   "execution_count": null,
   "metadata": {},
   "outputs": [],
   "source": [
    " "
   ]
  },
  {
   "cell_type": "code",
   "execution_count": null,
   "metadata": {},
   "outputs": [],
   "source": [
    "from pyspark.ml.clustering import KMeans\n",
    "from pyspark.ml.evaluation import ClusteringEvaluator\n",
    "\n",
    " \n",
    "kmeans = KMeans().setK(7).setSeed(1)\n",
    "model = kmeans.fit(router)\n",
    "\n"
   ]
  },
  {
   "cell_type": "code",
   "execution_count": null,
   "metadata": {},
   "outputs": [],
   "source": [
    "# Make predictions\n",
    "predictions = model.transform(router)\n",
    "\n",
    "# Evaluate clustering by computing Silhouette score\n",
    "evaluator = ClusteringEvaluator()\n",
    "\n",
    "silhouette = evaluator.evaluate(predictions)\n",
    "print(\"Silhouette with squared euclidean distance = \" + str(silhouette))\n",
    "\n",
    "# Shows the result.\n",
    "centers = model.clusterCenters()\n",
    "print(\"Cluster Centers: \")\n",
    "for center in centers:\n",
    "    print(center)\n"
   ]
  },
  {
   "cell_type": "code",
   "execution_count": null,
   "metadata": {},
   "outputs": [],
   "source": []
  },
  {
   "cell_type": "code",
   "execution_count": null,
   "metadata": {},
   "outputs": [],
   "source": []
  },
  {
   "cell_type": "code",
   "execution_count": null,
   "metadata": {},
   "outputs": [],
   "source": []
  },
  {
   "cell_type": "code",
   "execution_count": null,
   "metadata": {},
   "outputs": [],
   "source": []
  },
  {
   "cell_type": "code",
   "execution_count": null,
   "metadata": {},
   "outputs": [],
   "source": [
    "\n",
    " "
   ]
  },
  {
   "cell_type": "code",
   "execution_count": null,
   "metadata": {},
   "outputs": [],
   "source": [
    " "
   ]
  },
  {
   "cell_type": "code",
   "execution_count": null,
   "metadata": {},
   "outputs": [],
   "source": [
    " "
   ]
  }
 ],
 "metadata": {
  "kernelspec": {
   "display_name": "Python 3",
   "language": "python",
   "name": "python3"
  },
  "language_info": {
   "codemirror_mode": {
    "name": "ipython",
    "version": 3
   },
   "file_extension": ".py",
   "mimetype": "text/x-python",
   "name": "python",
   "nbconvert_exporter": "python",
   "pygments_lexer": "ipython3",
   "version": "3.5.2"
  }
 },
 "nbformat": 4,
 "nbformat_minor": 2
}
